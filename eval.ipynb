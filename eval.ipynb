{
 "cells": [
  {
   "cell_type": "markdown",
   "metadata": {},
   "source": [
    "### Evaluation Results -> Succ Rate"
   ]
  },
  {
   "cell_type": "code",
   "execution_count": 2,
   "metadata": {},
   "outputs": [],
   "source": [
    "import os\n",
    "import os.path as osp\n",
    "import numpy as np\n",
    "import pandas as pd"
   ]
  },
  {
   "cell_type": "code",
   "execution_count": 4,
   "metadata": {},
   "outputs": [],
   "source": [
    "root = '/Users/jimmy/Projects/RL/My_RLlib_Algo/eval_results'\n",
    "all_file_names = os.listdir(root)"
   ]
  },
  {
   "cell_type": "code",
   "execution_count": 3,
   "metadata": {},
   "outputs": [
    {
     "ename": "NameError",
     "evalue": "name 'root' is not defined",
     "output_type": "error",
     "traceback": [
      "\u001b[0;31m---------------------------------------------------------------------------\u001b[0m",
      "\u001b[0;31mNameError\u001b[0m                                 Traceback (most recent call last)",
      "Cell \u001b[0;32mIn[3], line 1\u001b[0m\n\u001b[0;32m----> 1\u001b[0m test_csv \u001b[38;5;241m=\u001b[39m pd\u001b[38;5;241m.\u001b[39mread_csv(osp\u001b[38;5;241m.\u001b[39mjoin(\u001b[43mroot\u001b[49m, \u001b[38;5;124m'\u001b[39m\u001b[38;5;124mscpo_inter_0.csv\u001b[39m\u001b[38;5;124m'\u001b[39m))\n\u001b[1;32m      2\u001b[0m test_csv\u001b[38;5;241m.\u001b[39mhead()\n",
      "\u001b[0;31mNameError\u001b[0m: name 'root' is not defined"
     ]
    }
   ],
   "source": [
    "test_csv = pd.read_csv(osp.join(root, 'scpo_inter_0.csv'))\n",
    "test_csv.head()"
   ]
  },
  {
   "cell_type": "code",
   "execution_count": 5,
   "metadata": {},
   "outputs": [
    {
     "data": {
      "text/plain": [
       "Index(['Unnamed: 0', 'velocity_step_mean_episode_min',\n",
       "       'velocity_step_mean_episode_mean', 'velocity_step_mean_episode_max',\n",
       "       'energy_step_mean_episode_min', 'energy_step_mean_episode_mean',\n",
       "       'energy_step_mean_episode_max', 'num_neighbours_mean_episode_mean',\n",
       "       'num_neighbours_mean_episode_max', 'num_agents_total',\n",
       "       'num_agents_total_per_300_steps', 'success_rate', 'num_agents_success',\n",
       "       'num_agents_success_per_300_steps', 'num_agents_failed_per_300_steps',\n",
       "       'episode_reward_mean', 'episode_reward_min', 'episode_reward_max',\n",
       "       'episode_cost_mean', 'episode_cost_min', 'episode_cost_max',\n",
       "       'episode_cost_sum', 'crash_rate', 'num_agents_crash', 'out_rate',\n",
       "       'num_agents_out', 'episode_length_mean', 'success_episode_length_mean',\n",
       "       'svo_estimate_deg_mean', 'svo_estimate_deg_min', 'svo_estimate_deg_max',\n",
       "       'svo_reward', 'path', 'ckpt_idx', 'algo', 'env', 'seed', 'trial',\n",
       "       'trial_path', 'should_wrap_copo_env', 'should_wrap_cc_env', 'episode'],\n",
       "      dtype='object')"
      ]
     },
     "execution_count": 5,
     "metadata": {},
     "output_type": "execute_result"
    }
   ],
   "source": [
    "test_csv.columns"
   ]
  },
  {
   "cell_type": "markdown",
   "metadata": {},
   "source": [
    "`concat` 一个 algo scene 对应的所有 eval csv 文件并保留有用的列，然后返回"
   ]
  },
  {
   "cell_type": "code",
   "execution_count": 24,
   "metadata": {},
   "outputs": [],
   "source": [
    "def one_algo_scene(algo, scene, root=root):\n",
    "    algo_scene = f'{algo}_{scene}'\n",
    "    count = 0\n",
    "    succ = [] # 对所有一次性求std\n",
    "    crash = []\n",
    "    out = []\n",
    "    all_file_names = os.listdir(root)\n",
    "    csv_list = []\n",
    "    for name in all_file_names:\n",
    "        if algo_scene in name:\n",
    "            count += 1\n",
    "            csv_list.append(pd.read_csv(osp.join(root, name)))\n",
    "    print(f'Found {count} eval results(csv) of {algo_scene}.')\n",
    "\n",
    "    data = pd.concat(csv_list)\n",
    "\n",
    "    ret = pd.DataFrame(columns=['success_rate', 'num_failed', 'net_success'])\n",
    "\n",
    "    # == Success Rate ==\n",
    "    ret['success_rate'] = data['success_rate']*100\n",
    "    # == Safety ==\n",
    "    # ret[\"num_failed\"] = (data[\"num_agents_crash\"] + data[\"num_agents_out\"] ) / data['num_agents_total']\n",
    "    ret[\"num_failed\"] = (data[\"crash_rate\"] + data[\"out_rate\"])*100\n",
    "    # ret[\"num_failed\"] = (data[\"num_agents_total\"] - data[\"num_agents_success\"]) / data['num_agents_total'] * 100\n",
    "    # == Efficiency ==\n",
    "    data['num_agents_maxstep'] = data[\"num_agents_total\"] - data[\"num_agents_success\"] - data[\"num_agents_crash\"] - data[\"num_agents_out\"]\n",
    "    ret[\"net_success\"] = (\n",
    "        # data[\"num_agents_success\"] - data[\"num_agents_crash\"] - data[\"num_agents_out\"] - data['num_agents_maxstep']\n",
    "        data[\"num_agents_success\"] -ret[\"num_failed\"]\n",
    "        # data[\"num_agents_success\"] - data[\"num_agents_crash\"] - data[\"num_agents_out\"]\n",
    "    )\n",
    "\n",
    "    return ret\n"
   ]
  },
  {
   "cell_type": "code",
   "execution_count": 61,
   "metadata": {},
   "outputs": [
    {
     "name": "stdout",
     "output_type": "stream",
     "text": [
      "Found 24 eval results(csv) of ippo_inter.\n"
     ]
    },
    {
     "data": {
      "text/plain": [
       "Index(['success_rate', 'num_failed', 'net_success'], dtype='object')"
      ]
     },
     "execution_count": 61,
     "metadata": {},
     "output_type": "execute_result"
    }
   ],
   "source": [
    "ret = one_algo_scene('ippo', 'inter')\n",
    "ret.columns"
   ]
  },
  {
   "cell_type": "code",
   "execution_count": 25,
   "metadata": {},
   "outputs": [
    {
     "name": "stdout",
     "output_type": "stream",
     "text": [
      "Found 24 eval results(csv) of ippo_inter.\n",
      "Found 24 eval results(csv) of ippo_round.\n",
      "Found 40 eval results(csv) of ccppo-mf_inter.\n",
      "Found 40 eval results(csv) of ccppo-mf_round.\n",
      "Found 40 eval results(csv) of ccppo-concat_inter.\n",
      "Found 40 eval results(csv) of ccppo-concat_round.\n",
      "Found 34 eval results(csv) of copo_inter.\n",
      "Found 24 eval results(csv) of copo_round.\n",
      "Found 40 eval results(csv) of scpo_inter.\n",
      "Found 36 eval results(csv) of scpo_round.\n"
     ]
    }
   ],
   "source": [
    "algos = [ 'ippo', 'ccppo-mf', 'ccppo-concat', 'copo', 'scpo']\n",
    "algo_names_formal = ['IPPO', 'MFPO', 'MAPPO', 'CoPO', 'SCPO']\n",
    "scenes = ['inter', 'round']\n",
    "scene_names_formal = ['Intersection', 'Roundabout']\n",
    "metric_names = ['Success Rate', 'Safety Violation', 'Efficiency']\n",
    "\n",
    "algo_mapping = {\n",
    "    'ippo': 'IPPO', \n",
    "    'ccppo-mf': 'MFPO',\n",
    "    'ccppo-concat': 'MAPPO', \n",
    "    'copo': 'CoPO', \n",
    "    'scpo': 'SCPO', \n",
    "}\n",
    "\n",
    "scene_mapping = {\n",
    "    'inter': 'Intersection',\n",
    "    'round': 'Roundabout',\n",
    "}\n",
    "\n",
    "metric_mapping = {\n",
    "    'success_rate': 'Success Rate',\n",
    "    'num_failed': 'Safety Violation', \n",
    "    'net_success': 'Efficiency',\n",
    "}\n",
    "\n",
    "# Method(5)  Metrics(3) -> 5x3 \n",
    "table_results_inter = pd.DataFrame(columns=metric_names)\n",
    "table_results_round = pd.DataFrame(columns=metric_names)\n",
    "\n",
    "for algo in algos:\n",
    "    for scene in scenes:\n",
    "        df = one_algo_scene(algo, scene) # 'success_rate', 'num_failed', 'net_success'\n",
    "        # print(f'{algo}_{scene}', rate, sum(rate))\n",
    "        table_results = table_results_inter if scene == 'inter' else table_results_round\n",
    "        for met in ['success_rate', 'num_failed', 'net_success']:\n",
    "            table_results.loc[algo_mapping[algo], metric_mapping[met]] = f\"{df[met].mean():.2f} $\\scriptstyle \\pm {df[met].std():.2f}$\"\n"
   ]
  },
  {
   "cell_type": "code",
   "execution_count": 26,
   "metadata": {},
   "outputs": [
    {
     "name": "stdout",
     "output_type": "stream",
     "text": [
      "                         Success Rate                Safety Violation  \\\n",
      "IPPO   73.33 $\\scriptstyle \\pm 14.01$  24.07 $\\scriptstyle \\pm 10.40$   \n",
      "MFPO   70.09 $\\scriptstyle \\pm 16.64$  27.58 $\\scriptstyle \\pm 14.00$   \n",
      "MAPPO  69.93 $\\scriptstyle \\pm 12.55$   28.39 $\\scriptstyle \\pm 9.93$   \n",
      "CoPO    76.31 $\\scriptstyle \\pm 7.44$   23.33 $\\scriptstyle \\pm 6.57$   \n",
      "SCPO    82.28 $\\scriptstyle \\pm 7.51$   16.56 $\\scriptstyle \\pm 6.40$   \n",
      "\n",
      "                           Efficiency  \n",
      "IPPO   50.75 $\\scriptstyle \\pm 30.98$  \n",
      "MFPO   46.45 $\\scriptstyle \\pm 36.89$  \n",
      "MAPPO  47.43 $\\scriptstyle \\pm 30.65$  \n",
      "CoPO   61.51 $\\scriptstyle \\pm 16.45$  \n",
      "SCPO   72.76 $\\scriptstyle \\pm 18.24$  \n"
     ]
    }
   ],
   "source": [
    "print(table_results_inter)\n",
    "# print(table_results_round)"
   ]
  },
  {
   "cell_type": "code",
   "execution_count": 27,
   "metadata": {},
   "outputs": [
    {
     "name": "stdout",
     "output_type": "stream",
     "text": [
      "                         Success Rate               Safety Violation  \\\n",
      "IPPO   75.92 $\\scriptstyle \\pm 12.70$  13.20 $\\scriptstyle \\pm 6.63$   \n",
      "MFPO    79.50 $\\scriptstyle \\pm 9.45$  13.31 $\\scriptstyle \\pm 5.71$   \n",
      "MAPPO  71.81 $\\scriptstyle \\pm 11.98$  12.74 $\\scriptstyle \\pm 6.43$   \n",
      "CoPO    78.67 $\\scriptstyle \\pm 8.68$  17.05 $\\scriptstyle \\pm 6.77$   \n",
      "SCPO    82.96 $\\scriptstyle \\pm 6.71$  15.53 $\\scriptstyle \\pm 6.43$   \n",
      "\n",
      "                           Efficiency  \n",
      "IPPO   54.49 $\\scriptstyle \\pm 23.32$  \n",
      "MFPO   59.54 $\\scriptstyle \\pm 17.26$  \n",
      "MAPPO  45.43 $\\scriptstyle \\pm 18.89$  \n",
      "CoPO   56.88 $\\scriptstyle \\pm 17.06$  \n",
      "SCPO   69.95 $\\scriptstyle \\pm 14.10$  \n"
     ]
    }
   ],
   "source": [
    "print(table_results_round)"
   ]
  },
  {
   "cell_type": "code",
   "execution_count": 58,
   "metadata": {},
   "outputs": [
    {
     "name": "stdout",
     "output_type": "stream",
     "text": [
      "\\begin{tabular}{llll}\n",
      "\\toprule\n",
      " & Success Rate & Safety Violation & Efficiency \\\\\n",
      "\\midrule\n",
      "IPPO & 73.33 $\\scriptstyle \\pm 14.01$ & 24.97 $\\scriptstyle \\pm 10.24$ & 51.51 $\\scriptstyle \\pm 27.31$ \\\\\n",
      "MFPO & 70.09 $\\scriptstyle \\pm 16.64$ & 29.11 $\\scriptstyle \\pm 13.27$ & 46.61 $\\scriptstyle \\pm 32.63$ \\\\\n",
      "MAPPO & 69.93 $\\scriptstyle \\pm 12.55$ & 30.34 $\\scriptstyle \\pm 9.03$ & 46.67 $\\scriptstyle \\pm 26.35$ \\\\\n",
      "CoPO & 76.31 $\\scriptstyle \\pm 7.44$ & 26.23 $\\scriptstyle \\pm 7.97$ & 58.88 $\\scriptstyle \\pm 15.36$ \\\\\n",
      "SCPO & 82.28 $\\scriptstyle \\pm 7.51$ & 19.02 $\\scriptstyle \\pm 8.00$ & 71.27 $\\scriptstyle \\pm 17.07$ \\\\\n",
      "\\bottomrule\n",
      "\\end{tabular}\n",
      "\n"
     ]
    }
   ],
   "source": [
    "print(table_results_inter.to_latex(escape=False))"
   ]
  },
  {
   "cell_type": "code",
   "execution_count": 59,
   "metadata": {},
   "outputs": [
    {
     "name": "stdout",
     "output_type": "stream",
     "text": [
      "\\begin{tabular}{llll}\n",
      "\\toprule\n",
      " & Success Rate & Safety Violation & Efficiency \\\\\n",
      "\\midrule\n",
      "IPPO & 75.92 $\\scriptstyle \\pm 12.70$ & 19.79 $\\scriptstyle \\pm 8.96$ & 56.24 $\\scriptstyle \\pm 21.69$ \\\\\n",
      "MFPO & 79.50 $\\scriptstyle \\pm 9.45$ & 17.82 $\\scriptstyle \\pm 6.50$ & 60.59 $\\scriptstyle \\pm 16.00$ \\\\\n",
      "MAPPO & 71.81 $\\scriptstyle \\pm 11.98$ & 21.58 $\\scriptstyle \\pm 7.74$ & 47.98 $\\scriptstyle \\pm 17.28$ \\\\\n",
      "CoPO & 78.67 $\\scriptstyle \\pm 8.68$ & 19.55 $\\scriptstyle \\pm 7.33$ & 57.89 $\\scriptstyle \\pm 15.88$ \\\\\n",
      "SCPO & 82.96 $\\scriptstyle \\pm 6.71$ & 17.59 $\\scriptstyle \\pm 7.26$ & 69.17 $\\scriptstyle \\pm 13.61$ \\\\\n",
      "\\bottomrule\n",
      "\\end{tabular}\n",
      "\n"
     ]
    }
   ],
   "source": [
    "print(table_results_round.to_latex(escape=False))"
   ]
  },
  {
   "cell_type": "code",
   "execution_count": 50,
   "metadata": {},
   "outputs": [],
   "source": [
    "def aggregate_results(root):\n",
    "    files = os.listdir(root)\n",
    "\n",
    "    all_mean = []\n",
    "    all_res = []\n",
    "    for f in files:\n",
    "        fp = osp.join(root, f)\n",
    "        data = pd.read_csv(fp)\n",
    "        seed = data['seed'].unique()\n",
    "        ckpt_idx = data['ckpt_idx'].unique()\n",
    "    \n",
    "        mean = data['success_rate'].mean()\n",
    "        all_mean.append(mean)\n",
    "        res = f'{mean:.3} - {seed}, {ckpt_idx}'\n",
    "        all_res.append(res)\n",
    "\n",
    "    all_mean.sort()\n",
    "    all_res.sort(key=lambda x: float(x.split('-')[0][:-1]))\n",
    "\n",
    "    return all_mean, all_res"
   ]
  }
 ],
 "metadata": {
  "kernelspec": {
   "display_name": "Python 3",
   "language": "python",
   "name": "python3"
  },
  "language_info": {
   "codemirror_mode": {
    "name": "ipython",
    "version": 3
   },
   "file_extension": ".py",
   "mimetype": "text/x-python",
   "name": "python",
   "nbconvert_exporter": "python",
   "pygments_lexer": "ipython3",
   "version": "3.9.17"
  }
 },
 "nbformat": 4,
 "nbformat_minor": 2
}
