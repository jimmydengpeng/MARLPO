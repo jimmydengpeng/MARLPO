{
 "cells": [
  {
   "attachments": {},
   "cell_type": "markdown",
   "metadata": {},
   "source": [
    "### Math"
   ]
  },
  {
   "attachments": {},
   "cell_type": "markdown",
   "metadata": {},
   "source": [
    "$\\pi_{\\theta}(\\mathbf{a} \\mid \\mathbf{o}) \\approx \\prod_{i=1}^{n} \\pi_{\\theta^{x_{i}}}\\left(a^{x_{i}} \\mid o^{x_{i}}, a^{x^N_{1}}, \\ldots, a^{x^N_{m}}\\right)$"
   ]
  },
  {
   "attachments": {},
   "cell_type": "markdown",
   "metadata": {},
   "source": [
    "$r_{i, t}^{C}=\\cos (\\phi) r_{i, t}+\\sin (\\phi) r_{i, t}^{N}$"
   ]
  },
  {
   "attachments": {},
   "cell_type": "markdown",
   "metadata": {},
   "source": [
    "$\\nabla_{i} J_{i}^{I}\\left(\\theta_{i}\\right)=\\underset{(s, \\mathbf{a})}{\\mathbb{E}}\\left[\\nabla_{i} \\log \\pi_{i}\\left(a_{i} \\mid s\\right) A_{i}^{I}\\left(s, a_{i}, \\mathbf{a}_{\\neg i}\\right)\\right]$"
   ]
  },
  {
   "attachments": {},
   "cell_type": "markdown",
   "metadata": {},
   "source": []
  }
 ],
 "metadata": {
  "language_info": {
   "name": "python"
  },
  "orig_nbformat": 4
 },
 "nbformat": 4,
 "nbformat_minor": 2
}
