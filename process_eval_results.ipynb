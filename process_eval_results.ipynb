{
 "cells": [
  {
   "cell_type": "markdown",
   "metadata": {},
   "source": [
    "# Formal Evaluation Results Processing"
   ]
  },
  {
   "cell_type": "code",
   "execution_count": 3,
   "metadata": {},
   "outputs": [],
   "source": [
    "import os\n",
    "import os.path as osp\n",
    "import math\n",
    "import numpy as np\n",
    "import pandas as pd\n",
    "pd.set_option('display.width', 200)"
   ]
  },
  {
   "cell_type": "code",
   "execution_count": 4,
   "metadata": {},
   "outputs": [],
   "source": [
    "root = '/Users/jimmy/Projects/RL/My_RLlib_Algo/eval_results'"
   ]
  },
  {
   "cell_type": "code",
   "execution_count": 3,
   "metadata": {},
   "outputs": [],
   "source": [
    "test_csv = pd.read_csv(osp.join(root, 'ccppo-concat_inter_0.csv'))"
   ]
  },
  {
   "cell_type": "code",
   "execution_count": 4,
   "metadata": {},
   "outputs": [
    {
     "data": {
      "text/plain": [
       "12000"
      ]
     },
     "execution_count": 4,
     "metadata": {},
     "output_type": "execute_result"
    }
   ],
   "source": [
    "test_csv['seed'].unique()[0]"
   ]
  },
  {
   "cell_type": "markdown",
   "metadata": {},
   "source": [
    "`concat` 一个 algo scene 对应的所有 eval csv 文件并保留有用的列，然后返回"
   ]
  },
  {
   "cell_type": "code",
   "execution_count": 5,
   "metadata": {},
   "outputs": [],
   "source": [
    "def one_algo_scene(algo, scene, root=root, verbose=False):\n",
    "    algo_scene = f'{algo}_{scene}'\n",
    "    count = 0\n",
    "    succ = [] # 对所有一次性求std\n",
    "    crash = []\n",
    "    out = []\n",
    "    all_file_names = os.listdir(root)\n",
    "    csv_list = []\n",
    "    for name in all_file_names:\n",
    "        if algo_scene in name:\n",
    "            count += 1\n",
    "            csv_list.append(pd.read_csv(osp.join(root, name)))\n",
    "    if verbose: print(f'Found {count} eval results(csv) of {algo_scene}.')\n",
    "\n",
    "    data = pd.concat(csv_list)\n",
    "\n",
    "    ret = pd.DataFrame(columns=['success_rate', 'num_failed', 'net_success'])\n",
    "\n",
    "    # == Success Rate ==\n",
    "    ret['success_rate'] = data['success_rate']*100\n",
    "\n",
    "    # == Safety ==\n",
    "    # ret[\"num_failed\"] = (data[\"num_agents_crash\"] + data[\"num_agents_out\"] ) / data['num_agents_total']\n",
    "    ret[\"num_failed\"] = (data[\"crash_rate\"] + data[\"out_rate\"])*100\n",
    "    # ret[\"num_failed\"] = (data[\"crash_rate\"] + data[\"out_rate\"])*100\n",
    "    # ret[\"num_failed\"] = (data[\"num_agents_total\"] - data[\"num_agents_success\"]) / data['num_agents_total'] * 100\n",
    "\n",
    "    ret['num_agents_crash'] = data['num_agents_crash']\n",
    "    ret['num_agents_out'] = data['num_agents_out']\n",
    "    ret['num_critical_fail'] =  data['num_agents_crash'] + data['num_agents_out']\n",
    "\n",
    "\n",
    "    # == Efficiency ==\n",
    "    data['num_agents_maxstep'] = data[\"num_agents_total\"] - data[\"num_agents_success\"] - data[\"num_agents_crash\"] - data[\"num_agents_out\"]\n",
    "    ret[\"net_success\"] = (\n",
    "        # data[\"num_agents_success\"] - data[\"num_agents_crash\"] - data[\"num_agents_out\"] - data['num_agents_maxstep']\n",
    "        data[\"num_agents_success\"] -ret[\"num_failed\"]\n",
    "        # data[\"num_agents_success\"] - data[\"num_agents_crash\"] - data[\"num_agents_out\"]\n",
    "    )\n",
    "\n",
    "    return ret"
   ]
  },
  {
   "cell_type": "markdown",
   "metadata": {},
   "source": [
    "## 1. Main Metrics Processing:"
   ]
  },
  {
   "cell_type": "markdown",
   "metadata": {},
   "source": [
    "concat all csv:"
   ]
  },
  {
   "cell_type": "code",
   "execution_count": 41,
   "metadata": {},
   "outputs": [],
   "source": [
    "csv_list = []\n",
    "all_file_names = [ osp.join(root, name) for name in os.listdir(root) if 'csv' in  name ]\n",
    "for name in all_file_names:\n",
    "    csv_list.append(pd.read_csv(name))\n",
    "data = pd.concat(csv_list)"
   ]
  },
  {
   "cell_type": "code",
   "execution_count": 42,
   "metadata": {},
   "outputs": [
    {
     "data": {
      "text/plain": [
       "Index(['Unnamed: 0', 'velocity_step_mean_episode_min', 'velocity_step_mean_episode_mean', 'velocity_step_mean_episode_max', 'energy_step_mean_episode_min', 'energy_step_mean_episode_mean',\n",
       "       'energy_step_mean_episode_max', 'num_neighbours_mean_episode_mean', 'num_neighbours_mean_episode_max', 'num_agents_total', 'num_agents_total_per_300_steps', 'success_rate',\n",
       "       'num_agents_success', 'num_agents_success_per_300_steps', 'num_agents_failed_per_300_steps', 'episode_reward_mean', 'episode_reward_min', 'episode_reward_max', 'episode_cost_mean',\n",
       "       'episode_cost_min', 'episode_cost_max', 'episode_cost_sum', 'crash_rate', 'num_agents_crash', 'out_rate', 'num_agents_out', 'episode_length_mean', 'success_episode_length_mean',\n",
       "       'svo_estimate_deg_mean', 'svo_estimate_deg_min', 'svo_estimate_deg_max', 'svo_reward', 'path', 'ckpt_idx', 'algo', 'env', 'seed', 'trial', 'trial_path', 'should_wrap_copo_env',\n",
       "       'should_wrap_cc_env', 'episode'],\n",
       "      dtype='object')"
      ]
     },
     "execution_count": 42,
     "metadata": {},
     "output_type": "execute_result"
    }
   ],
   "source": [
    "data.columns"
   ]
  },
  {
   "cell_type": "markdown",
   "metadata": {},
   "source": [
    "### DataFrame Preview:"
   ]
  },
  {
   "cell_type": "code",
   "execution_count": 8,
   "metadata": {},
   "outputs": [
    {
     "data": {
      "text/html": [
       "<div>\n",
       "<style scoped>\n",
       "    .dataframe tbody tr th:only-of-type {\n",
       "        vertical-align: middle;\n",
       "    }\n",
       "\n",
       "    .dataframe tbody tr th {\n",
       "        vertical-align: top;\n",
       "    }\n",
       "\n",
       "    .dataframe thead th {\n",
       "        text-align: right;\n",
       "    }\n",
       "</style>\n",
       "<table border=\"1\" class=\"dataframe\">\n",
       "  <thead>\n",
       "    <tr style=\"text-align: right;\">\n",
       "      <th></th>\n",
       "      <th>Unnamed: 0</th>\n",
       "      <th>velocity_step_mean_episode_min</th>\n",
       "      <th>velocity_step_mean_episode_mean</th>\n",
       "      <th>velocity_step_mean_episode_max</th>\n",
       "      <th>energy_step_mean_episode_min</th>\n",
       "      <th>energy_step_mean_episode_mean</th>\n",
       "      <th>energy_step_mean_episode_max</th>\n",
       "      <th>num_neighbours_mean_episode_mean</th>\n",
       "      <th>num_neighbours_mean_episode_max</th>\n",
       "      <th>num_agents_total</th>\n",
       "      <th>...</th>\n",
       "      <th>path</th>\n",
       "      <th>ckpt_idx</th>\n",
       "      <th>algo</th>\n",
       "      <th>env</th>\n",
       "      <th>seed</th>\n",
       "      <th>trial</th>\n",
       "      <th>trial_path</th>\n",
       "      <th>should_wrap_copo_env</th>\n",
       "      <th>should_wrap_cc_env</th>\n",
       "      <th>episode</th>\n",
       "    </tr>\n",
       "  </thead>\n",
       "  <tbody>\n",
       "    <tr>\n",
       "      <th>0</th>\n",
       "      <td>0</td>\n",
       "      <td>0.038236</td>\n",
       "      <td>4.562022</td>\n",
       "      <td>12.148758</td>\n",
       "      <td>0.0</td>\n",
       "      <td>0.019695</td>\n",
       "      <td>0.061327</td>\n",
       "      <td>10.259000</td>\n",
       "      <td>14.200000</td>\n",
       "      <td>120</td>\n",
       "      <td>...</td>\n",
       "      <td>/Users/jimmy/Projects/RL/My_RLlib_Algo/eval_ch...</td>\n",
       "      <td>1620</td>\n",
       "      <td>scpo</td>\n",
       "      <td>Inter</td>\n",
       "      <td>8000</td>\n",
       "      <td>SCPOTrainer_Intersection_b4a01_00002_2_num_age...</td>\n",
       "      <td>/Users/jimmy/Projects/RL/My_RLlib_Algo/eval_ch...</td>\n",
       "      <td>False</td>\n",
       "      <td>False</td>\n",
       "      <td>1</td>\n",
       "    </tr>\n",
       "    <tr>\n",
       "      <th>1</th>\n",
       "      <td>1</td>\n",
       "      <td>0.045635</td>\n",
       "      <td>4.314084</td>\n",
       "      <td>12.655176</td>\n",
       "      <td>0.0</td>\n",
       "      <td>0.018410</td>\n",
       "      <td>0.064536</td>\n",
       "      <td>10.755203</td>\n",
       "      <td>15.666667</td>\n",
       "      <td>112</td>\n",
       "      <td>...</td>\n",
       "      <td>/Users/jimmy/Projects/RL/My_RLlib_Algo/eval_ch...</td>\n",
       "      <td>1620</td>\n",
       "      <td>scpo</td>\n",
       "      <td>Inter</td>\n",
       "      <td>8000</td>\n",
       "      <td>SCPOTrainer_Intersection_b4a01_00002_2_num_age...</td>\n",
       "      <td>/Users/jimmy/Projects/RL/My_RLlib_Algo/eval_ch...</td>\n",
       "      <td>False</td>\n",
       "      <td>False</td>\n",
       "      <td>2</td>\n",
       "    </tr>\n",
       "    <tr>\n",
       "      <th>2</th>\n",
       "      <td>2</td>\n",
       "      <td>0.043667</td>\n",
       "      <td>4.382802</td>\n",
       "      <td>13.485906</td>\n",
       "      <td>0.0</td>\n",
       "      <td>0.018882</td>\n",
       "      <td>0.070800</td>\n",
       "      <td>10.465078</td>\n",
       "      <td>14.733333</td>\n",
       "      <td>113</td>\n",
       "      <td>...</td>\n",
       "      <td>/Users/jimmy/Projects/RL/My_RLlib_Algo/eval_ch...</td>\n",
       "      <td>1620</td>\n",
       "      <td>scpo</td>\n",
       "      <td>Inter</td>\n",
       "      <td>8000</td>\n",
       "      <td>SCPOTrainer_Intersection_b4a01_00002_2_num_age...</td>\n",
       "      <td>/Users/jimmy/Projects/RL/My_RLlib_Algo/eval_ch...</td>\n",
       "      <td>False</td>\n",
       "      <td>False</td>\n",
       "      <td>3</td>\n",
       "    </tr>\n",
       "    <tr>\n",
       "      <th>3</th>\n",
       "      <td>3</td>\n",
       "      <td>0.044683</td>\n",
       "      <td>4.803002</td>\n",
       "      <td>12.470843</td>\n",
       "      <td>0.0</td>\n",
       "      <td>0.020763</td>\n",
       "      <td>0.062434</td>\n",
       "      <td>10.049279</td>\n",
       "      <td>15.600000</td>\n",
       "      <td>127</td>\n",
       "      <td>...</td>\n",
       "      <td>/Users/jimmy/Projects/RL/My_RLlib_Algo/eval_ch...</td>\n",
       "      <td>1620</td>\n",
       "      <td>scpo</td>\n",
       "      <td>Inter</td>\n",
       "      <td>8000</td>\n",
       "      <td>SCPOTrainer_Intersection_b4a01_00002_2_num_age...</td>\n",
       "      <td>/Users/jimmy/Projects/RL/My_RLlib_Algo/eval_ch...</td>\n",
       "      <td>False</td>\n",
       "      <td>False</td>\n",
       "      <td>4</td>\n",
       "    </tr>\n",
       "    <tr>\n",
       "      <th>4</th>\n",
       "      <td>4</td>\n",
       "      <td>0.037922</td>\n",
       "      <td>4.273456</td>\n",
       "      <td>13.593557</td>\n",
       "      <td>0.0</td>\n",
       "      <td>0.018257</td>\n",
       "      <td>0.071871</td>\n",
       "      <td>10.526657</td>\n",
       "      <td>14.545455</td>\n",
       "      <td>115</td>\n",
       "      <td>...</td>\n",
       "      <td>/Users/jimmy/Projects/RL/My_RLlib_Algo/eval_ch...</td>\n",
       "      <td>1620</td>\n",
       "      <td>scpo</td>\n",
       "      <td>Inter</td>\n",
       "      <td>8000</td>\n",
       "      <td>SCPOTrainer_Intersection_b4a01_00002_2_num_age...</td>\n",
       "      <td>/Users/jimmy/Projects/RL/My_RLlib_Algo/eval_ch...</td>\n",
       "      <td>False</td>\n",
       "      <td>False</td>\n",
       "      <td>5</td>\n",
       "    </tr>\n",
       "    <tr>\n",
       "      <th>5</th>\n",
       "      <td>5</td>\n",
       "      <td>0.042325</td>\n",
       "      <td>4.722755</td>\n",
       "      <td>11.572851</td>\n",
       "      <td>0.0</td>\n",
       "      <td>0.020307</td>\n",
       "      <td>0.056740</td>\n",
       "      <td>10.406641</td>\n",
       "      <td>14.133333</td>\n",
       "      <td>123</td>\n",
       "      <td>...</td>\n",
       "      <td>/Users/jimmy/Projects/RL/My_RLlib_Algo/eval_ch...</td>\n",
       "      <td>1620</td>\n",
       "      <td>scpo</td>\n",
       "      <td>Inter</td>\n",
       "      <td>8000</td>\n",
       "      <td>SCPOTrainer_Intersection_b4a01_00002_2_num_age...</td>\n",
       "      <td>/Users/jimmy/Projects/RL/My_RLlib_Algo/eval_ch...</td>\n",
       "      <td>False</td>\n",
       "      <td>False</td>\n",
       "      <td>6</td>\n",
       "    </tr>\n",
       "    <tr>\n",
       "      <th>6</th>\n",
       "      <td>6</td>\n",
       "      <td>0.042608</td>\n",
       "      <td>4.525044</td>\n",
       "      <td>14.042589</td>\n",
       "      <td>0.0</td>\n",
       "      <td>0.019423</td>\n",
       "      <td>0.075321</td>\n",
       "      <td>10.209147</td>\n",
       "      <td>14.600000</td>\n",
       "      <td>120</td>\n",
       "      <td>...</td>\n",
       "      <td>/Users/jimmy/Projects/RL/My_RLlib_Algo/eval_ch...</td>\n",
       "      <td>1620</td>\n",
       "      <td>scpo</td>\n",
       "      <td>Inter</td>\n",
       "      <td>8000</td>\n",
       "      <td>SCPOTrainer_Intersection_b4a01_00002_2_num_age...</td>\n",
       "      <td>/Users/jimmy/Projects/RL/My_RLlib_Algo/eval_ch...</td>\n",
       "      <td>False</td>\n",
       "      <td>False</td>\n",
       "      <td>7</td>\n",
       "    </tr>\n",
       "    <tr>\n",
       "      <th>7</th>\n",
       "      <td>7</td>\n",
       "      <td>0.046832</td>\n",
       "      <td>4.742610</td>\n",
       "      <td>13.081676</td>\n",
       "      <td>0.0</td>\n",
       "      <td>0.020404</td>\n",
       "      <td>0.067947</td>\n",
       "      <td>10.249140</td>\n",
       "      <td>14.333333</td>\n",
       "      <td>125</td>\n",
       "      <td>...</td>\n",
       "      <td>/Users/jimmy/Projects/RL/My_RLlib_Algo/eval_ch...</td>\n",
       "      <td>1620</td>\n",
       "      <td>scpo</td>\n",
       "      <td>Inter</td>\n",
       "      <td>8000</td>\n",
       "      <td>SCPOTrainer_Intersection_b4a01_00002_2_num_age...</td>\n",
       "      <td>/Users/jimmy/Projects/RL/My_RLlib_Algo/eval_ch...</td>\n",
       "      <td>False</td>\n",
       "      <td>False</td>\n",
       "      <td>8</td>\n",
       "    </tr>\n",
       "    <tr>\n",
       "      <th>8</th>\n",
       "      <td>8</td>\n",
       "      <td>0.039891</td>\n",
       "      <td>4.473956</td>\n",
       "      <td>13.762468</td>\n",
       "      <td>0.0</td>\n",
       "      <td>0.019259</td>\n",
       "      <td>0.072221</td>\n",
       "      <td>10.438623</td>\n",
       "      <td>14.600000</td>\n",
       "      <td>116</td>\n",
       "      <td>...</td>\n",
       "      <td>/Users/jimmy/Projects/RL/My_RLlib_Algo/eval_ch...</td>\n",
       "      <td>1620</td>\n",
       "      <td>scpo</td>\n",
       "      <td>Inter</td>\n",
       "      <td>8000</td>\n",
       "      <td>SCPOTrainer_Intersection_b4a01_00002_2_num_age...</td>\n",
       "      <td>/Users/jimmy/Projects/RL/My_RLlib_Algo/eval_ch...</td>\n",
       "      <td>False</td>\n",
       "      <td>False</td>\n",
       "      <td>9</td>\n",
       "    </tr>\n",
       "    <tr>\n",
       "      <th>9</th>\n",
       "      <td>9</td>\n",
       "      <td>0.042892</td>\n",
       "      <td>4.451032</td>\n",
       "      <td>12.195420</td>\n",
       "      <td>0.0</td>\n",
       "      <td>0.019005</td>\n",
       "      <td>0.061068</td>\n",
       "      <td>10.241181</td>\n",
       "      <td>14.600000</td>\n",
       "      <td>125</td>\n",
       "      <td>...</td>\n",
       "      <td>/Users/jimmy/Projects/RL/My_RLlib_Algo/eval_ch...</td>\n",
       "      <td>1620</td>\n",
       "      <td>scpo</td>\n",
       "      <td>Inter</td>\n",
       "      <td>8000</td>\n",
       "      <td>SCPOTrainer_Intersection_b4a01_00002_2_num_age...</td>\n",
       "      <td>/Users/jimmy/Projects/RL/My_RLlib_Algo/eval_ch...</td>\n",
       "      <td>False</td>\n",
       "      <td>False</td>\n",
       "      <td>10</td>\n",
       "    </tr>\n",
       "    <tr>\n",
       "      <th>10</th>\n",
       "      <td>10</td>\n",
       "      <td>0.046515</td>\n",
       "      <td>4.674935</td>\n",
       "      <td>13.823751</td>\n",
       "      <td>0.0</td>\n",
       "      <td>0.020026</td>\n",
       "      <td>0.074175</td>\n",
       "      <td>9.949373</td>\n",
       "      <td>15.133333</td>\n",
       "      <td>127</td>\n",
       "      <td>...</td>\n",
       "      <td>/Users/jimmy/Projects/RL/My_RLlib_Algo/eval_ch...</td>\n",
       "      <td>1620</td>\n",
       "      <td>scpo</td>\n",
       "      <td>Inter</td>\n",
       "      <td>8000</td>\n",
       "      <td>SCPOTrainer_Intersection_b4a01_00002_2_num_age...</td>\n",
       "      <td>/Users/jimmy/Projects/RL/My_RLlib_Algo/eval_ch...</td>\n",
       "      <td>False</td>\n",
       "      <td>False</td>\n",
       "      <td>11</td>\n",
       "    </tr>\n",
       "    <tr>\n",
       "      <th>11</th>\n",
       "      <td>11</td>\n",
       "      <td>0.037824</td>\n",
       "      <td>3.894545</td>\n",
       "      <td>13.407256</td>\n",
       "      <td>0.0</td>\n",
       "      <td>0.016710</td>\n",
       "      <td>0.069421</td>\n",
       "      <td>11.052829</td>\n",
       "      <td>15.933333</td>\n",
       "      <td>109</td>\n",
       "      <td>...</td>\n",
       "      <td>/Users/jimmy/Projects/RL/My_RLlib_Algo/eval_ch...</td>\n",
       "      <td>1620</td>\n",
       "      <td>scpo</td>\n",
       "      <td>Inter</td>\n",
       "      <td>8000</td>\n",
       "      <td>SCPOTrainer_Intersection_b4a01_00002_2_num_age...</td>\n",
       "      <td>/Users/jimmy/Projects/RL/My_RLlib_Algo/eval_ch...</td>\n",
       "      <td>False</td>\n",
       "      <td>False</td>\n",
       "      <td>12</td>\n",
       "    </tr>\n",
       "    <tr>\n",
       "      <th>12</th>\n",
       "      <td>12</td>\n",
       "      <td>0.035712</td>\n",
       "      <td>4.520323</td>\n",
       "      <td>12.586493</td>\n",
       "      <td>0.0</td>\n",
       "      <td>0.019543</td>\n",
       "      <td>0.064250</td>\n",
       "      <td>10.199077</td>\n",
       "      <td>15.133333</td>\n",
       "      <td>122</td>\n",
       "      <td>...</td>\n",
       "      <td>/Users/jimmy/Projects/RL/My_RLlib_Algo/eval_ch...</td>\n",
       "      <td>1620</td>\n",
       "      <td>scpo</td>\n",
       "      <td>Inter</td>\n",
       "      <td>8000</td>\n",
       "      <td>SCPOTrainer_Intersection_b4a01_00002_2_num_age...</td>\n",
       "      <td>/Users/jimmy/Projects/RL/My_RLlib_Algo/eval_ch...</td>\n",
       "      <td>False</td>\n",
       "      <td>False</td>\n",
       "      <td>13</td>\n",
       "    </tr>\n",
       "    <tr>\n",
       "      <th>13</th>\n",
       "      <td>13</td>\n",
       "      <td>0.039981</td>\n",
       "      <td>4.219027</td>\n",
       "      <td>11.696567</td>\n",
       "      <td>0.0</td>\n",
       "      <td>0.017962</td>\n",
       "      <td>0.057203</td>\n",
       "      <td>10.358356</td>\n",
       "      <td>14.466667</td>\n",
       "      <td>123</td>\n",
       "      <td>...</td>\n",
       "      <td>/Users/jimmy/Projects/RL/My_RLlib_Algo/eval_ch...</td>\n",
       "      <td>1620</td>\n",
       "      <td>scpo</td>\n",
       "      <td>Inter</td>\n",
       "      <td>8000</td>\n",
       "      <td>SCPOTrainer_Intersection_b4a01_00002_2_num_age...</td>\n",
       "      <td>/Users/jimmy/Projects/RL/My_RLlib_Algo/eval_ch...</td>\n",
       "      <td>False</td>\n",
       "      <td>False</td>\n",
       "      <td>14</td>\n",
       "    </tr>\n",
       "    <tr>\n",
       "      <th>14</th>\n",
       "      <td>14</td>\n",
       "      <td>0.044432</td>\n",
       "      <td>3.509659</td>\n",
       "      <td>13.739651</td>\n",
       "      <td>0.0</td>\n",
       "      <td>0.015084</td>\n",
       "      <td>0.072387</td>\n",
       "      <td>8.112470</td>\n",
       "      <td>14.206897</td>\n",
       "      <td>121</td>\n",
       "      <td>...</td>\n",
       "      <td>/Users/jimmy/Projects/RL/My_RLlib_Algo/eval_ch...</td>\n",
       "      <td>1620</td>\n",
       "      <td>scpo</td>\n",
       "      <td>Inter</td>\n",
       "      <td>8000</td>\n",
       "      <td>SCPOTrainer_Intersection_b4a01_00002_2_num_age...</td>\n",
       "      <td>/Users/jimmy/Projects/RL/My_RLlib_Algo/eval_ch...</td>\n",
       "      <td>False</td>\n",
       "      <td>False</td>\n",
       "      <td>15</td>\n",
       "    </tr>\n",
       "    <tr>\n",
       "      <th>15</th>\n",
       "      <td>15</td>\n",
       "      <td>0.040971</td>\n",
       "      <td>4.641588</td>\n",
       "      <td>11.952117</td>\n",
       "      <td>0.0</td>\n",
       "      <td>0.020013</td>\n",
       "      <td>0.059463</td>\n",
       "      <td>10.498536</td>\n",
       "      <td>15.200000</td>\n",
       "      <td>122</td>\n",
       "      <td>...</td>\n",
       "      <td>/Users/jimmy/Projects/RL/My_RLlib_Algo/eval_ch...</td>\n",
       "      <td>1620</td>\n",
       "      <td>scpo</td>\n",
       "      <td>Inter</td>\n",
       "      <td>8000</td>\n",
       "      <td>SCPOTrainer_Intersection_b4a01_00002_2_num_age...</td>\n",
       "      <td>/Users/jimmy/Projects/RL/My_RLlib_Algo/eval_ch...</td>\n",
       "      <td>False</td>\n",
       "      <td>False</td>\n",
       "      <td>16</td>\n",
       "    </tr>\n",
       "    <tr>\n",
       "      <th>16</th>\n",
       "      <td>16</td>\n",
       "      <td>0.042455</td>\n",
       "      <td>4.310756</td>\n",
       "      <td>12.204565</td>\n",
       "      <td>0.0</td>\n",
       "      <td>0.018446</td>\n",
       "      <td>0.061004</td>\n",
       "      <td>10.271225</td>\n",
       "      <td>14.066667</td>\n",
       "      <td>124</td>\n",
       "      <td>...</td>\n",
       "      <td>/Users/jimmy/Projects/RL/My_RLlib_Algo/eval_ch...</td>\n",
       "      <td>1620</td>\n",
       "      <td>scpo</td>\n",
       "      <td>Inter</td>\n",
       "      <td>8000</td>\n",
       "      <td>SCPOTrainer_Intersection_b4a01_00002_2_num_age...</td>\n",
       "      <td>/Users/jimmy/Projects/RL/My_RLlib_Algo/eval_ch...</td>\n",
       "      <td>False</td>\n",
       "      <td>False</td>\n",
       "      <td>17</td>\n",
       "    </tr>\n",
       "    <tr>\n",
       "      <th>17</th>\n",
       "      <td>17</td>\n",
       "      <td>0.040076</td>\n",
       "      <td>4.136259</td>\n",
       "      <td>11.814242</td>\n",
       "      <td>0.0</td>\n",
       "      <td>0.017704</td>\n",
       "      <td>0.058375</td>\n",
       "      <td>10.839487</td>\n",
       "      <td>14.800000</td>\n",
       "      <td>109</td>\n",
       "      <td>...</td>\n",
       "      <td>/Users/jimmy/Projects/RL/My_RLlib_Algo/eval_ch...</td>\n",
       "      <td>1620</td>\n",
       "      <td>scpo</td>\n",
       "      <td>Inter</td>\n",
       "      <td>8000</td>\n",
       "      <td>SCPOTrainer_Intersection_b4a01_00002_2_num_age...</td>\n",
       "      <td>/Users/jimmy/Projects/RL/My_RLlib_Algo/eval_ch...</td>\n",
       "      <td>False</td>\n",
       "      <td>False</td>\n",
       "      <td>18</td>\n",
       "    </tr>\n",
       "    <tr>\n",
       "      <th>18</th>\n",
       "      <td>18</td>\n",
       "      <td>0.043339</td>\n",
       "      <td>4.513231</td>\n",
       "      <td>14.035920</td>\n",
       "      <td>0.0</td>\n",
       "      <td>0.019508</td>\n",
       "      <td>0.074824</td>\n",
       "      <td>9.820341</td>\n",
       "      <td>14.800000</td>\n",
       "      <td>129</td>\n",
       "      <td>...</td>\n",
       "      <td>/Users/jimmy/Projects/RL/My_RLlib_Algo/eval_ch...</td>\n",
       "      <td>1620</td>\n",
       "      <td>scpo</td>\n",
       "      <td>Inter</td>\n",
       "      <td>8000</td>\n",
       "      <td>SCPOTrainer_Intersection_b4a01_00002_2_num_age...</td>\n",
       "      <td>/Users/jimmy/Projects/RL/My_RLlib_Algo/eval_ch...</td>\n",
       "      <td>False</td>\n",
       "      <td>False</td>\n",
       "      <td>19</td>\n",
       "    </tr>\n",
       "    <tr>\n",
       "      <th>19</th>\n",
       "      <td>19</td>\n",
       "      <td>0.040180</td>\n",
       "      <td>4.586321</td>\n",
       "      <td>12.836546</td>\n",
       "      <td>0.0</td>\n",
       "      <td>0.019619</td>\n",
       "      <td>0.065866</td>\n",
       "      <td>10.413340</td>\n",
       "      <td>14.666667</td>\n",
       "      <td>121</td>\n",
       "      <td>...</td>\n",
       "      <td>/Users/jimmy/Projects/RL/My_RLlib_Algo/eval_ch...</td>\n",
       "      <td>1620</td>\n",
       "      <td>scpo</td>\n",
       "      <td>Inter</td>\n",
       "      <td>8000</td>\n",
       "      <td>SCPOTrainer_Intersection_b4a01_00002_2_num_age...</td>\n",
       "      <td>/Users/jimmy/Projects/RL/My_RLlib_Algo/eval_ch...</td>\n",
       "      <td>False</td>\n",
       "      <td>False</td>\n",
       "      <td>20</td>\n",
       "    </tr>\n",
       "  </tbody>\n",
       "</table>\n",
       "<p>20 rows × 42 columns</p>\n",
       "</div>"
      ],
      "text/plain": [
       "    Unnamed: 0  velocity_step_mean_episode_min  velocity_step_mean_episode_mean  velocity_step_mean_episode_max  energy_step_mean_episode_min  energy_step_mean_episode_mean  \\\n",
       "0            0                        0.038236                         4.562022                       12.148758                           0.0                       0.019695   \n",
       "1            1                        0.045635                         4.314084                       12.655176                           0.0                       0.018410   \n",
       "2            2                        0.043667                         4.382802                       13.485906                           0.0                       0.018882   \n",
       "3            3                        0.044683                         4.803002                       12.470843                           0.0                       0.020763   \n",
       "4            4                        0.037922                         4.273456                       13.593557                           0.0                       0.018257   \n",
       "5            5                        0.042325                         4.722755                       11.572851                           0.0                       0.020307   \n",
       "6            6                        0.042608                         4.525044                       14.042589                           0.0                       0.019423   \n",
       "7            7                        0.046832                         4.742610                       13.081676                           0.0                       0.020404   \n",
       "8            8                        0.039891                         4.473956                       13.762468                           0.0                       0.019259   \n",
       "9            9                        0.042892                         4.451032                       12.195420                           0.0                       0.019005   \n",
       "10          10                        0.046515                         4.674935                       13.823751                           0.0                       0.020026   \n",
       "11          11                        0.037824                         3.894545                       13.407256                           0.0                       0.016710   \n",
       "12          12                        0.035712                         4.520323                       12.586493                           0.0                       0.019543   \n",
       "13          13                        0.039981                         4.219027                       11.696567                           0.0                       0.017962   \n",
       "14          14                        0.044432                         3.509659                       13.739651                           0.0                       0.015084   \n",
       "15          15                        0.040971                         4.641588                       11.952117                           0.0                       0.020013   \n",
       "16          16                        0.042455                         4.310756                       12.204565                           0.0                       0.018446   \n",
       "17          17                        0.040076                         4.136259                       11.814242                           0.0                       0.017704   \n",
       "18          18                        0.043339                         4.513231                       14.035920                           0.0                       0.019508   \n",
       "19          19                        0.040180                         4.586321                       12.836546                           0.0                       0.019619   \n",
       "\n",
       "    energy_step_mean_episode_max  num_neighbours_mean_episode_mean  num_neighbours_mean_episode_max  num_agents_total  ...                                               path  ckpt_idx  algo    env  \\\n",
       "0                       0.061327                         10.259000                        14.200000               120  ...  /Users/jimmy/Projects/RL/My_RLlib_Algo/eval_ch...      1620  scpo  Inter   \n",
       "1                       0.064536                         10.755203                        15.666667               112  ...  /Users/jimmy/Projects/RL/My_RLlib_Algo/eval_ch...      1620  scpo  Inter   \n",
       "2                       0.070800                         10.465078                        14.733333               113  ...  /Users/jimmy/Projects/RL/My_RLlib_Algo/eval_ch...      1620  scpo  Inter   \n",
       "3                       0.062434                         10.049279                        15.600000               127  ...  /Users/jimmy/Projects/RL/My_RLlib_Algo/eval_ch...      1620  scpo  Inter   \n",
       "4                       0.071871                         10.526657                        14.545455               115  ...  /Users/jimmy/Projects/RL/My_RLlib_Algo/eval_ch...      1620  scpo  Inter   \n",
       "5                       0.056740                         10.406641                        14.133333               123  ...  /Users/jimmy/Projects/RL/My_RLlib_Algo/eval_ch...      1620  scpo  Inter   \n",
       "6                       0.075321                         10.209147                        14.600000               120  ...  /Users/jimmy/Projects/RL/My_RLlib_Algo/eval_ch...      1620  scpo  Inter   \n",
       "7                       0.067947                         10.249140                        14.333333               125  ...  /Users/jimmy/Projects/RL/My_RLlib_Algo/eval_ch...      1620  scpo  Inter   \n",
       "8                       0.072221                         10.438623                        14.600000               116  ...  /Users/jimmy/Projects/RL/My_RLlib_Algo/eval_ch...      1620  scpo  Inter   \n",
       "9                       0.061068                         10.241181                        14.600000               125  ...  /Users/jimmy/Projects/RL/My_RLlib_Algo/eval_ch...      1620  scpo  Inter   \n",
       "10                      0.074175                          9.949373                        15.133333               127  ...  /Users/jimmy/Projects/RL/My_RLlib_Algo/eval_ch...      1620  scpo  Inter   \n",
       "11                      0.069421                         11.052829                        15.933333               109  ...  /Users/jimmy/Projects/RL/My_RLlib_Algo/eval_ch...      1620  scpo  Inter   \n",
       "12                      0.064250                         10.199077                        15.133333               122  ...  /Users/jimmy/Projects/RL/My_RLlib_Algo/eval_ch...      1620  scpo  Inter   \n",
       "13                      0.057203                         10.358356                        14.466667               123  ...  /Users/jimmy/Projects/RL/My_RLlib_Algo/eval_ch...      1620  scpo  Inter   \n",
       "14                      0.072387                          8.112470                        14.206897               121  ...  /Users/jimmy/Projects/RL/My_RLlib_Algo/eval_ch...      1620  scpo  Inter   \n",
       "15                      0.059463                         10.498536                        15.200000               122  ...  /Users/jimmy/Projects/RL/My_RLlib_Algo/eval_ch...      1620  scpo  Inter   \n",
       "16                      0.061004                         10.271225                        14.066667               124  ...  /Users/jimmy/Projects/RL/My_RLlib_Algo/eval_ch...      1620  scpo  Inter   \n",
       "17                      0.058375                         10.839487                        14.800000               109  ...  /Users/jimmy/Projects/RL/My_RLlib_Algo/eval_ch...      1620  scpo  Inter   \n",
       "18                      0.074824                          9.820341                        14.800000               129  ...  /Users/jimmy/Projects/RL/My_RLlib_Algo/eval_ch...      1620  scpo  Inter   \n",
       "19                      0.065866                         10.413340                        14.666667               121  ...  /Users/jimmy/Projects/RL/My_RLlib_Algo/eval_ch...      1620  scpo  Inter   \n",
       "\n",
       "    seed                                              trial                                         trial_path  should_wrap_copo_env  should_wrap_cc_env  episode  \n",
       "0   8000  SCPOTrainer_Intersection_b4a01_00002_2_num_age...  /Users/jimmy/Projects/RL/My_RLlib_Algo/eval_ch...                 False               False        1  \n",
       "1   8000  SCPOTrainer_Intersection_b4a01_00002_2_num_age...  /Users/jimmy/Projects/RL/My_RLlib_Algo/eval_ch...                 False               False        2  \n",
       "2   8000  SCPOTrainer_Intersection_b4a01_00002_2_num_age...  /Users/jimmy/Projects/RL/My_RLlib_Algo/eval_ch...                 False               False        3  \n",
       "3   8000  SCPOTrainer_Intersection_b4a01_00002_2_num_age...  /Users/jimmy/Projects/RL/My_RLlib_Algo/eval_ch...                 False               False        4  \n",
       "4   8000  SCPOTrainer_Intersection_b4a01_00002_2_num_age...  /Users/jimmy/Projects/RL/My_RLlib_Algo/eval_ch...                 False               False        5  \n",
       "5   8000  SCPOTrainer_Intersection_b4a01_00002_2_num_age...  /Users/jimmy/Projects/RL/My_RLlib_Algo/eval_ch...                 False               False        6  \n",
       "6   8000  SCPOTrainer_Intersection_b4a01_00002_2_num_age...  /Users/jimmy/Projects/RL/My_RLlib_Algo/eval_ch...                 False               False        7  \n",
       "7   8000  SCPOTrainer_Intersection_b4a01_00002_2_num_age...  /Users/jimmy/Projects/RL/My_RLlib_Algo/eval_ch...                 False               False        8  \n",
       "8   8000  SCPOTrainer_Intersection_b4a01_00002_2_num_age...  /Users/jimmy/Projects/RL/My_RLlib_Algo/eval_ch...                 False               False        9  \n",
       "9   8000  SCPOTrainer_Intersection_b4a01_00002_2_num_age...  /Users/jimmy/Projects/RL/My_RLlib_Algo/eval_ch...                 False               False       10  \n",
       "10  8000  SCPOTrainer_Intersection_b4a01_00002_2_num_age...  /Users/jimmy/Projects/RL/My_RLlib_Algo/eval_ch...                 False               False       11  \n",
       "11  8000  SCPOTrainer_Intersection_b4a01_00002_2_num_age...  /Users/jimmy/Projects/RL/My_RLlib_Algo/eval_ch...                 False               False       12  \n",
       "12  8000  SCPOTrainer_Intersection_b4a01_00002_2_num_age...  /Users/jimmy/Projects/RL/My_RLlib_Algo/eval_ch...                 False               False       13  \n",
       "13  8000  SCPOTrainer_Intersection_b4a01_00002_2_num_age...  /Users/jimmy/Projects/RL/My_RLlib_Algo/eval_ch...                 False               False       14  \n",
       "14  8000  SCPOTrainer_Intersection_b4a01_00002_2_num_age...  /Users/jimmy/Projects/RL/My_RLlib_Algo/eval_ch...                 False               False       15  \n",
       "15  8000  SCPOTrainer_Intersection_b4a01_00002_2_num_age...  /Users/jimmy/Projects/RL/My_RLlib_Algo/eval_ch...                 False               False       16  \n",
       "16  8000  SCPOTrainer_Intersection_b4a01_00002_2_num_age...  /Users/jimmy/Projects/RL/My_RLlib_Algo/eval_ch...                 False               False       17  \n",
       "17  8000  SCPOTrainer_Intersection_b4a01_00002_2_num_age...  /Users/jimmy/Projects/RL/My_RLlib_Algo/eval_ch...                 False               False       18  \n",
       "18  8000  SCPOTrainer_Intersection_b4a01_00002_2_num_age...  /Users/jimmy/Projects/RL/My_RLlib_Algo/eval_ch...                 False               False       19  \n",
       "19  8000  SCPOTrainer_Intersection_b4a01_00002_2_num_age...  /Users/jimmy/Projects/RL/My_RLlib_Algo/eval_ch...                 False               False       20  \n",
       "\n",
       "[20 rows x 42 columns]"
      ]
     },
     "execution_count": 8,
     "metadata": {},
     "output_type": "execute_result"
    }
   ],
   "source": [
    "pth = 'eval_results/main/scpo/scpo_inter_0.csv'\n",
    "pd.read_csv(pth)"
   ]
  },
  {
   "cell_type": "code",
   "execution_count": 29,
   "metadata": {},
   "outputs": [],
   "source": [
    "def read_csv_recursively(root_dir):\n",
    "    all_dataframes = []  # 用于存储所有读取的 DataFrame\n",
    "    all_algo_envs = set()\n",
    "\n",
    "    # 遍历根目录\n",
    "    for root, dirs, files in os.walk(root_dir):\n",
    "        for file in files:\n",
    "            # 检查文件扩展名是否为 '.csv'\n",
    "            if file.endswith('.csv'):\n",
    "                file_path = os.path.join(root, file)\n",
    "                # 使用 pandas 的 read_csv 读取 CSV 文件\n",
    "                dataframe = pd.read_csv(file_path)\n",
    "                # check algo and env\n",
    "                assert 'algo' in dataframe\n",
    "                assert 'env' in dataframe\n",
    "                all_algo_envs.add(f\"{dataframe['algo'].unique()[0].upper()}-{dataframe['env'].unique()[0]}\")\n",
    "                all_dataframes.append(dataframe)\n",
    "\n",
    "    # 将所有的 DataFrame 进行合并\n",
    "    result_df = pd.concat(all_dataframes, ignore_index=True)\n",
    "    all_dataframes.sort(key=lambda k: k.split('-')[0])\n",
    "    all_dataframes = sorted(all_dataframes)\n",
    "    print(f'Successfully read {len(all_algo_envs)} algo-sences! \\n{all_algo_envs}')\n",
    "\n",
    "    return result_df\n"
   ]
  },
  {
   "cell_type": "code",
   "execution_count": 28,
   "metadata": {},
   "outputs": [
    {
     "ename": "ValueError",
     "evalue": "The truth value of a DataFrame is ambiguous. Use a.empty, a.bool(), a.item(), a.any() or a.all().",
     "output_type": "error",
     "traceback": [
      "\u001b[0;31m---------------------------------------------------------------------------\u001b[0m",
      "\u001b[0;31mValueError\u001b[0m                                Traceback (most recent call last)",
      "\u001b[0;32m/var/folders/36/bvf53yyd46b4pd8vg8rtv5fc0000gn/T/ipykernel_1551/4178527551.py\u001b[0m in \u001b[0;36m?\u001b[0;34m()\u001b[0m\n\u001b[0;32m----> 1\u001b[0;31m \u001b[0mdf\u001b[0m \u001b[0;34m=\u001b[0m \u001b[0mread_csv_recursively\u001b[0m\u001b[0;34m(\u001b[0m\u001b[0;34m'eval_results/main'\u001b[0m\u001b[0;34m)\u001b[0m\u001b[0;34m\u001b[0m\u001b[0;34m\u001b[0m\u001b[0m\n\u001b[0m",
      "\u001b[0;32m/var/folders/36/bvf53yyd46b4pd8vg8rtv5fc0000gn/T/ipykernel_1551/2173705431.py\u001b[0m in \u001b[0;36m?\u001b[0;34m(root_dir)\u001b[0m\n\u001b[1;32m     18\u001b[0m \u001b[0;34m\u001b[0m\u001b[0m\n\u001b[1;32m     19\u001b[0m     \u001b[0;31m# 将所有的 DataFrame 进行合并\u001b[0m\u001b[0;34m\u001b[0m\u001b[0;34m\u001b[0m\u001b[0m\n\u001b[1;32m     20\u001b[0m     \u001b[0mresult_df\u001b[0m \u001b[0;34m=\u001b[0m \u001b[0mpd\u001b[0m\u001b[0;34m.\u001b[0m\u001b[0mconcat\u001b[0m\u001b[0;34m(\u001b[0m\u001b[0mall_dataframes\u001b[0m\u001b[0;34m,\u001b[0m \u001b[0mignore_index\u001b[0m\u001b[0;34m=\u001b[0m\u001b[0;32mTrue\u001b[0m\u001b[0;34m)\u001b[0m\u001b[0;34m\u001b[0m\u001b[0;34m\u001b[0m\u001b[0m\n\u001b[1;32m     21\u001b[0m     \u001b[0;31m# all_dataframes.sort(key=lambda k: k.split('-')[0])\u001b[0m\u001b[0;34m\u001b[0m\u001b[0;34m\u001b[0m\u001b[0m\n\u001b[0;32m---> 22\u001b[0;31m     \u001b[0mall_dataframes\u001b[0m \u001b[0;34m=\u001b[0m \u001b[0msorted\u001b[0m\u001b[0;34m(\u001b[0m\u001b[0mall_dataframes\u001b[0m\u001b[0;34m)\u001b[0m\u001b[0;34m\u001b[0m\u001b[0;34m\u001b[0m\u001b[0m\n\u001b[0m\u001b[1;32m     23\u001b[0m     \u001b[0mprint\u001b[0m\u001b[0;34m(\u001b[0m\u001b[0;34mf'Successfully read {len(all_algo_envs)} algo-sences! \\n{all_algo_envs}'\u001b[0m\u001b[0;34m)\u001b[0m\u001b[0;34m\u001b[0m\u001b[0;34m\u001b[0m\u001b[0m\n\u001b[1;32m     24\u001b[0m \u001b[0;34m\u001b[0m\u001b[0m\n\u001b[1;32m     25\u001b[0m     \u001b[0;32mreturn\u001b[0m \u001b[0mresult_df\u001b[0m\u001b[0;34m\u001b[0m\u001b[0;34m\u001b[0m\u001b[0m\n",
      "\u001b[0;32m~/miniforge3/envs/marl/lib/python3.9/site-packages/pandas/core/generic.py\u001b[0m in \u001b[0;36m?\u001b[0;34m(self)\u001b[0m\n\u001b[1;32m   1464\u001b[0m     \u001b[0;34m@\u001b[0m\u001b[0mfinal\u001b[0m\u001b[0;34m\u001b[0m\u001b[0;34m\u001b[0m\u001b[0m\n\u001b[1;32m   1465\u001b[0m     \u001b[0;32mdef\u001b[0m \u001b[0m__nonzero__\u001b[0m\u001b[0;34m(\u001b[0m\u001b[0mself\u001b[0m\u001b[0;34m)\u001b[0m \u001b[0;34m->\u001b[0m \u001b[0mNoReturn\u001b[0m\u001b[0;34m:\u001b[0m\u001b[0;34m\u001b[0m\u001b[0;34m\u001b[0m\u001b[0m\n\u001b[0;32m-> 1466\u001b[0;31m         raise ValueError(\n\u001b[0m\u001b[1;32m   1467\u001b[0m             \u001b[0;34mf\"The truth value of a {type(self).__name__} is ambiguous. \"\u001b[0m\u001b[0;34m\u001b[0m\u001b[0;34m\u001b[0m\u001b[0m\n\u001b[1;32m   1468\u001b[0m             \u001b[0;34m\"Use a.empty, a.bool(), a.item(), a.any() or a.all().\"\u001b[0m\u001b[0;34m\u001b[0m\u001b[0;34m\u001b[0m\u001b[0m\n\u001b[1;32m   1469\u001b[0m         )\n",
      "\u001b[0;31mValueError\u001b[0m: The truth value of a DataFrame is ambiguous. Use a.empty, a.bool(), a.item(), a.any() or a.all()."
     ]
    }
   ],
   "source": [
    "df = read_csv_recursively('eval_results/main')"
   ]
  },
  {
   "cell_type": "code",
   "execution_count": null,
   "metadata": {},
   "outputs": [],
   "source": [
    "def concat_csv_recursively(pth):\n",
    "    if osp.isfile(pth) and osp.split(pth)[-1].split('.')[-1] == 'csv':\n",
    "        return pd.read_csv(pth)\n",
    "    elif osp.isdir(pth):\n",
    "        concat_csv_recursively()\n",
    "\n",
    "    else:\n",
    "        raise NotImplementedError\n",
    "\n",
    "      "
   ]
  },
  {
   "cell_type": "code",
   "execution_count": 6,
   "metadata": {},
   "outputs": [],
   "source": [
    "\n",
    "\n",
    "def preprocess_data(root):\n",
    "    # root: path for eval results' csv files, containing dirs grouped in algos, e.g.,\n",
    "    # root/\n",
    "    #    |- ippo\n",
    "    #    |- scpo\n",
    "\n",
    "    # read and concat every csv file in root:\n",
    "    csv_list = []\n",
    "    all_file_names = [ osp.join(root, name) for name in os.listdir(root) if 'csv' in name ]\n",
    "    for name in all_file_names:\n",
    "        csv_list.append(pd.read_csv(name))\n",
    "    data = pd.concat(csv_list)\n",
    "\n",
    "    sub_files = [osp.join(root, name) for name in os.listdir(root)] # may be csv or sub-dirs\n",
    "    for _pth in sub_files:\n",
    "        osp.isdir(_pth)\n",
    "    \n",
    "\n",
    "    # Success Rate\n",
    "    data['SuccessRate'] = data['success_rate']*100\n",
    "\n",
    "    # Safety\n",
    "    data['cra_out_rate'] = (data['crash_rate'] + data['out_rate'])*100\n",
    "\n",
    "    # Efficiency\n",
    "    data['efficiency'] = (data['num_agents_success'] - data['num_agents_crash'] - data['num_agents_out']) / data['episode_length_mean']\n",
    "\n",
    "    # Maxstep Rate\n",
    "    data['maxstep_rate'] = (1 - data['success_rate'] - data['crash_rate'] - data['out_rate'])*100\n",
    "\n",
    "    # pre-process nei_r\n",
    "    data['nei_r'] = data.apply(lambda row: np.sqrt(row['svo_reward']**2 - row['episode_reward_mean']**2), axis=1)\n",
    "    data['social_r'] = data['nei_r'] + data['episode_reward_mean']\n",
    "    data['r_per_step'] = data['episode_reward_mean'] / data['episode_length_mean']\n",
    "    data['sr_per_step'] = data['social_r'] / data['episode_length_mean']\n",
    "\n",
    "    # Mean Social Reward\n",
    "    data['mean_social_r'] = data['sr_per_step']\n",
    "\n",
    "    return data"
   ]
  },
  {
   "cell_type": "code",
   "execution_count": 44,
   "metadata": {},
   "outputs": [
    {
     "name": "stdout",
     "output_type": "stream",
     "text": [
      "\n",
      "[Inter]:\n",
      "           algo  success_rate  num_agents_crash  crash_rate  num_agents_out  out_rate  episode_reward_mean    nei_r  social_r  r_per_step  sr_per_step  svo_estimate_deg_mean  svo_reward  \\\n",
      "0  ccppo-concat         0.699            21.354       0.207           7.802     0.077              105.589   93.560   199.149       0.322        0.608                 41.945     141.085   \n",
      "1      ccppo-mf         0.701            20.236       0.203           7.186     0.073              105.454   92.998   198.452       0.310        0.584                 41.716     140.614   \n",
      "2          copo         0.763            19.684       0.177           6.276     0.056              110.648   96.524   207.171       0.352        0.659                 41.508     146.838   \n",
      "3          ippo         0.733            16.771       0.174           6.540     0.067              107.951   97.609   205.560       0.308        0.585                 42.174     145.561   \n",
      "4          scpo         0.823            12.556       0.115           5.495     0.050              116.528  105.127   221.654       0.352        0.670                 41.728     156.946   \n",
      "\n",
      "   crash_&_out  cra_out_rate  \n",
      "0       29.156         0.284  \n",
      "1       27.422         0.276  \n",
      "2       25.960         0.233  \n",
      "3       23.311         0.241  \n",
      "4       18.051         0.165  \n",
      "\n",
      "[Round]:\n",
      "           algo  success_rate  num_agents_crash  crash_rate  num_agents_out  out_rate  episode_reward_mean    nei_r  social_r  r_per_step  sr_per_step  svo_estimate_deg_mean  svo_reward  \\\n",
      "5  ccppo-concat         0.706             6.836       0.085           4.417     0.055              221.873  202.964   424.837       0.354        0.677                 42.392     300.707   \n",
      "6      ccppo-mf         0.798             7.830       0.084           5.236     0.056              233.963  216.244   450.207       0.431        0.829                 42.522     318.599   \n",
      "7          copo         0.783            11.214       0.118           5.214     0.056              238.574  231.831   470.405       0.441        0.869                 44.238     332.701   \n",
      "8          ippo         0.745             8.195       0.094           4.268     0.049              225.322  207.733   433.056       0.384        0.738                 42.369     306.477   \n",
      "9          scpo         0.845             9.869       0.096           4.271     0.043              240.179  223.511   463.690       0.484        0.935                 42.826     328.095   \n",
      "\n",
      "   crash_&_out  cra_out_rate  \n",
      "5       11.253         0.140  \n",
      "6       13.066         0.140  \n",
      "7       16.428         0.174  \n",
      "8       12.463         0.143  \n",
      "9       14.140         0.139  \n"
     ]
    }
   ],
   "source": [
    "data = preprocess_data(root)\n",
    "\n",
    "# print desirable cols\n",
    "metric_names = ['success_rate', 'num_agents_crash', 'crash_rate', 'num_agents_out', 'out_rate', 'episode_reward_mean', 'nei_r', 'social_r', 'r_per_step', 'sr_per_step', 'svo_estimate_deg_mean', 'svo_reward']\n",
    "\n",
    "table_results = pd.DataFrame(columns=['env', 'algo']+metric_names)\n",
    "\n",
    "for env_name, df in data.groupby('env'):\n",
    "    for algo_name, _df in df.groupby('algo'):\n",
    "        # table_results.loc[f'{algo_name}', 'env'] = env_name\n",
    "        _d = {}\n",
    "        for metric in metric_names:\n",
    "            # table_results.loc[f'{algo_name}', metric] = _df[metric].mean()\n",
    "           _d[metric] = round(_df[metric].mean(), 3) \n",
    "        _d.update({\n",
    "            'env': env_name,\n",
    "            'algo': algo_name,\n",
    "        })\n",
    "        table_results.loc[len(table_results)] = _d\n",
    "\n",
    "        # print(f'{algo_name:14}| {_df[metric].mean():.2f}({_df[metric].std():.2f})')\n",
    "\n",
    "\n",
    "table_results['crash_&_out'] = table_results['num_agents_crash'] + table_results['num_agents_out'] \n",
    "table_results['cra_out_rate'] = table_results['crash_rate'] + table_results['out_rate'] \n",
    "\n",
    "for env_name, df in table_results.groupby('env'):\n",
    "    print(f'\\n[{env_name}]:')\n",
    "    print(df.iloc[:, 1:])\n"
   ]
  },
  {
   "cell_type": "markdown",
   "metadata": {},
   "source": [
    "### Check checkpoint one-by-one: "
   ]
  },
  {
   "cell_type": "code",
   "execution_count": 175,
   "metadata": {},
   "outputs": [],
   "source": [
    "def sort_eval_res(algo_scene='scpo_round', key_idx=-3):\n",
    "    scpo_round_files = [ osp.join(root, name) for name in os.listdir(root) if algo_scene in name ]\n",
    "\n",
    "    ckp_eval_res = {}\n",
    "    cnt = 0\n",
    "    for name in scpo_round_files:\n",
    "        # print()\n",
    "        df = pd.read_csv(name)\n",
    "        ckp_eval_res[name[:-4].split('_')[-1]] = df\n",
    "        cnt += 1\n",
    "    print(f'Finishing {cnt} ckp eval res csv file!')\n",
    "    assert len(ckp_eval_res) == cnt\n",
    "\n",
    "    metric_value_list = []\n",
    "    for idx, df in ckp_eval_res.items():\n",
    "        succ_rate = round(df['success_rate'].mean()*100, 2)\n",
    "        critical_fail_rate = round((df['crash_rate'].mean()+df['out_rate'].mean())*100, 2)\n",
    "        maxstep_rate = round(100 - succ_rate - critical_fail_rate, 2)\n",
    "        svo_r = round(df['svo_reward'].mean(), 1)\n",
    "        svo = round(df['svo_estimate_deg_mean'].mean(), 2)\n",
    "\n",
    "        metric_value_list.append((\n",
    "            f'idx-{idx:2}', \n",
    "            f\"ckp-{df['seed'].unique()[0]}-{df['ckpt_idx'].unique()[0]}\", \n",
    "            succ_rate,\n",
    "            critical_fail_rate,\n",
    "            maxstep_rate,\n",
    "            svo_r,\n",
    "            svo,\n",
    "        ))\n",
    "\n",
    "    sorted_list = sorted(metric_value_list, key=lambda x: x[key_idx], reverse=True)\n",
    "\n",
    "    return sorted_list"
   ]
  },
  {
   "cell_type": "code",
   "execution_count": 184,
   "metadata": {},
   "outputs": [],
   "source": [
    "def print_tuple(tlist):\n",
    "    print(' '*28, f\"{'succ':7}{'fail':7}{'maxs':6}{'svo_r':7}{' svo':5}\")\n",
    "    for t in tlist:\n",
    "        s = ''\n",
    "        for e in t:\n",
    "            if isinstance(e, str):\n",
    "                if 'idx' in e:\n",
    "                    s += f'{e:7} '\n",
    "                elif 'ckp' in e:\n",
    "                    s += f'{e:16} | ' \n",
    "            else:\n",
    "                s += f' {e:5} '\n",
    "    \n",
    "        print(s)"
   ]
  },
  {
   "cell_type": "markdown",
   "metadata": {},
   "source": [
    "SCPO Round"
   ]
  },
  {
   "cell_type": "code",
   "execution_count": 197,
   "metadata": {},
   "outputs": [
    {
     "name": "stdout",
     "output_type": "stream",
     "text": [
      "Finishing 27 ckp eval res csv file!\n",
      "                             succ   fail   maxs  svo_r   svo \n",
      "idx-6   ckp-6000-1893    |  78.45  20.88   0.67  317.8  43.37 \n",
      "idx-15  ckp-5000-1954    |  80.07  19.93    0.0  317.7  43.45 \n",
      "idx-9   ckp-6000-1908    |  80.42  18.78    0.8  320.1  42.89 \n",
      "idx-32  ckp-12000-1722   |  82.13  17.87    0.0  323.2   43.5 \n",
      "idx-18  ckp-11000-1533   |  82.67  16.87   0.46  319.4  42.81 \n",
      "idx-16  ckp-11000-1524   |  82.87  16.82   0.31  326.2  43.01 \n",
      "idx-8   ckp-6000-1902    |  83.57  16.27   0.16  321.8  43.03 \n",
      "idx-33  ckp-12000-1725   |  83.71  16.25   0.04  326.2  43.45 \n",
      "idx-17  ckp-11000-1527   |  83.75  16.04   0.21  326.0  42.82 \n",
      "idx-19  ckp-11000-1536   |  84.72  14.81   0.47  322.4   42.6 \n",
      "idx-0   ckp-10000-1656   |   80.1  14.68   5.22  323.2  42.83 \n",
      "idx-27  ckp-9000-1569    |  85.45   14.6  -0.05  330.0  43.13 \n",
      "idx-7   ckp-6000-1899    |  84.81  14.55   0.64  331.6  42.73 \n",
      "idx-22  ckp-8000-846     |  85.58  14.05   0.37  334.4  43.26 \n",
      "idx-23  ckp-8000-849     |  86.11  13.79    0.1  334.7  43.21 \n",
      "idx-10  ckp-7000-765     |  81.37  13.71   4.92  325.8  42.15 \n",
      "idx-5   ckp-6000-1890    |  86.08  13.42    0.5  329.6  42.76 \n",
      "idx-25  ckp-8000-858     |  86.56  13.13   0.31  336.9  43.14 \n",
      "idx-30  ckp-9000-1578    |  86.71  13.13   0.16  331.8  42.97 \n",
      "idx-20  ckp-11000-1539   |  87.13  12.52   0.35  328.8  42.59 \n",
      "idx-24  ckp-8000-852     |  87.94   11.8   0.26  339.3  43.16 \n",
      "idx-28  ckp-9000-1572    |  88.83  11.17    0.0  334.7  42.95 \n",
      "idx-4   ckp-10000-1680   |  86.44  10.46    3.1  324.4  42.26 \n",
      "idx-21  ckp-8000-843     |   89.2  10.43   0.37  339.0  42.98 \n",
      "idx-1   ckp-10000-1671   |  81.12   9.78    9.1  326.8  42.04 \n",
      "idx-2   ckp-10000-1674   |  83.39   7.85   8.76  324.5  41.89 \n",
      "idx-3   ckp-10000-1677   |  85.53   7.09   7.38  331.9  41.86 \n"
     ]
    }
   ],
   "source": [
    "print_tuple(sort_eval_res('scpo_round', key_idx=-4))"
   ]
  },
  {
   "cell_type": "code",
   "execution_count": 187,
   "metadata": {},
   "outputs": [
    {
     "name": "stdout",
     "output_type": "stream",
     "text": [
      "Finishing 22 ckp eval res csv file!\n",
      "                             succ   fail   maxs  svo_r   svo \n",
      "idx-8   ckp-12000-1000   |  80.11  15.92   3.97  345.0  45.38 \n",
      "idx-6   ckp-12000-985    |  80.09   15.6   4.31  343.5  45.23 \n",
      "idx-13  ckp-9000-1745    |  73.69  20.33   5.98  343.2  44.98 \n",
      "idx-12  ckp-9000-1740    |  72.95  19.59   7.46  342.4  44.79 \n",
      "idx-0   ckp-8000-1935    |  88.79  11.05   0.16  339.8  43.42 \n",
      "idx-14  ckp-9000-1750    |   73.6  22.07   4.33  339.0  44.94 \n",
      "idx-2   ckp-8000-1954    |  86.75  13.25    0.0  337.1   43.5 \n",
      "idx-9   ckp-6000-1000    |  84.47   15.3   0.23  335.8  44.79 \n",
      "idx-21  ckp-5000-1875    |  86.76  13.19   0.05  335.5  42.85 \n",
      "idx-16  ckp-7000-1950    |  69.62  14.61  15.77  335.4  44.39 \n",
      "idx-20  ckp-11000-1345   |  75.79  21.42   2.79  334.2  44.64 \n",
      "idx-17  ckp-7000-1954    |  65.54  13.94  20.52  334.1  44.46 \n",
      "idx-3   ckp-10000-1710   |  85.76  13.02   1.22  333.7  43.34 \n",
      "idx-1   ckp-8000-1950    |  85.37  14.63   -0.0  332.4  43.79 \n",
      "idx-15  ckp-7000-1945    |  66.55  16.94  16.51  330.2  44.23 \n",
      "idx-22  ckp-5000-1880    |  84.99  14.96   0.05  329.8  43.04 \n",
      "idx-19  ckp-11000-1340   |  74.34  23.52   2.14  328.8  44.93 \n",
      "idx-18  ckp-11000-1335   |  68.39  26.31    5.3  326.5  45.39 \n",
      "idx-23  ckp-5000-1890    |  83.04  16.96   -0.0  321.7  43.24 \n",
      "idx-5   ckp-10000-1760   |  82.25  16.28   1.47  321.2  43.37 \n",
      "idx-10  ckp-6000-1005    |  76.32  23.68    0.0  318.9   45.2 \n",
      "idx-4   ckp-10000-1755   |  77.72  20.15   2.13  311.0  43.32 \n"
     ]
    }
   ],
   "source": [
    "print_tuple(sort_eval_res('copo_round', key_idx=-2))"
   ]
  },
  {
   "cell_type": "code",
   "execution_count": 201,
   "metadata": {},
   "outputs": [
    {
     "name": "stdout",
     "output_type": "stream",
     "text": [
      "Finishing 32 ckp eval res csv file!\n",
      "                             succ   fail   maxs  svo_r   svo \n",
      "idx-21  ckp-11000-790    |  56.01  26.59   17.4  276.5  42.92 \n",
      "idx-22  ckp-11000-795    |   58.6  25.02  16.38  283.9  42.79 \n",
      "idx-12  ckp-12000-925    |  64.45  19.25   16.3  292.8  42.72 \n",
      "idx-33  ckp-8000-1070    |   69.3  18.79  11.91  302.9  42.71 \n",
      "idx-23  ckp-11000-800    |   64.1  18.05  17.85  290.4  42.27 \n",
      "idx-20  ckp-11000-785    |  64.46  17.44   18.1  297.0  42.33 \n",
      "idx-24  ckp-11000-805    |  66.81   16.8  16.39  296.6  42.27 \n",
      "idx-34  ckp-8000-1080    |  72.31  16.55  11.14  305.9  42.24 \n",
      "idx-26  ckp-6000-1330    |  70.25  15.74  14.01  289.6  42.26 \n",
      "idx-10  ckp-12000-915    |  67.41  15.62  16.97  292.7  42.76 \n",
      "idx-13  ckp-12000-930    |  63.58  15.45  20.97  289.1  42.52 \n",
      "idx-11  ckp-12000-920    |  67.89  14.23  17.88  296.7  42.66 \n",
      "idx-8   ckp-5000-1950    |   76.3   13.5   10.2  308.9  42.57 \n",
      "idx-25  ckp-6000-1320    |  66.43  13.45  20.12  285.2  42.01 \n",
      "idx-14  ckp-12000-1954   |  82.64  13.38   3.98  317.4  42.72 \n",
      "idx-39  ckp-9000-735     |  59.33  13.29  27.38  281.6  42.43 \n",
      "idx-27  ckp-6000-1340    |  63.55  13.03  23.42  281.8   42.1 \n",
      "idx-29  ckp-6000-1360    |  61.61  12.85  25.54  277.7  42.49 \n",
      "idx-1   ckp-7000-1830    |  71.92  12.45  15.63  304.9  42.06 \n",
      "idx-6   ckp-5000-1930    |  74.24  12.09  13.67  307.4  42.31 \n",
      "idx-3   ckp-7000-1850    |  73.35  11.64  15.01  301.4  42.38 \n",
      "idx-28  ckp-6000-1350    |  68.95  11.28  19.77  292.2   42.2 \n",
      "idx-35  ckp-9000-715     |  70.31  11.26  18.43  301.4   42.0 \n",
      "idx-2   ckp-7000-1840    |  66.45  11.19  22.36  296.7  41.99 \n",
      "idx-4   ckp-7000-1860    |  72.18  10.77  17.05  304.9   42.0 \n",
      "idx-38  ckp-9000-730     |  67.08  10.48  22.44  294.6  42.13 \n",
      "idx-5   ckp-5000-1920    |  79.86  10.45   9.69  315.4  42.27 \n",
      "idx-9   ckp-5000-1954    |  78.64  10.41  10.95  317.2   42.5 \n",
      "idx-7   ckp-5000-1940    |  81.21   10.2   8.59  318.8  42.38 \n",
      "idx-16  ckp-10000-1920   |  88.43    9.8   1.77  335.8  42.72 \n",
      "idx-15  ckp-10000-1915   |  86.55   9.32   4.13  336.7  42.52 \n",
      "idx-18  ckp-10000-1930   |   85.8   9.19   5.01  328.4   42.3 \n"
     ]
    }
   ],
   "source": [
    "print_tuple(sort_eval_res('ccppo-concat_round', key_idx=-4))"
   ]
  },
  {
   "cell_type": "code",
   "execution_count": 199,
   "metadata": {},
   "outputs": [
    {
     "name": "stdout",
     "output_type": "stream",
     "text": [
      "Finishing 36 ckp eval res csv file!\n",
      "                             succ   fail   maxs  svo_r   svo \n",
      "idx-29  ckp-12000-1895   |  73.77  22.58   3.65  302.9   42.1 \n",
      "idx-32  ckp-8000-1570    |  78.75   20.2   1.05  315.5  43.48 \n",
      "idx-13  ckp-11000-1415   |  79.33  18.53   2.14  321.3  42.76 \n",
      "idx-26  ckp-12000-1870   |  76.54  18.07   5.39  310.3  41.73 \n",
      "idx-25  ckp-12000-1860   |  78.28  18.06   3.66  308.2  42.03 \n",
      "idx-28  ckp-12000-1885   |  77.32   17.0   5.68  308.6  41.66 \n",
      "idx-27  ckp-12000-1880   |   79.3  16.56   4.14  313.7  41.94 \n",
      "idx-24  ckp-10000-1240   |   74.2  16.17   9.63  313.6  42.34 \n",
      "idx-14  ckp-11000-1420   |  77.36   16.1   6.54  316.5  42.41 \n",
      "idx-22  ckp-10000-1230   |   73.2  15.75  11.05  311.6  42.27 \n",
      "idx-8   ckp-5000-1890    |  83.48  15.66   0.86  324.5  43.01 \n",
      "idx-30  ckp-8000-1550    |  82.84  15.55   1.61  322.2  43.32 \n",
      "idx-12  ckp-11000-1410   |  77.41  15.24   7.35  314.9  42.37 \n",
      "idx-20  ckp-10000-1180   |  72.84  15.19  11.97  318.9  42.26 \n",
      "idx-0   ckp-9000-1830    |  84.67  14.14   1.19  323.5  42.99 \n",
      "idx-33  ckp-8000-1580    |  85.31  13.99    0.7  331.0  43.31 \n",
      "idx-21  ckp-10000-1225   |  76.87  13.84   9.29  319.4  42.02 \n",
      "idx-34  ckp-8000-1954    |  85.97  13.57   0.46  331.3  43.39 \n",
      "idx-31  ckp-8000-1560    |   81.8  13.45   4.75  327.2  43.01 \n",
      "idx-1   ckp-9000-1835    |  85.18  13.33   1.49  326.8  42.67 \n",
      "idx-3   ckp-9000-1940    |  85.85  13.15    1.0  323.4  42.88 \n",
      "idx-6   ckp-5000-1870    |  85.48  13.14   1.38  328.6  42.82 \n",
      "idx-5   ckp-5000-1860    |  85.54   13.1   1.36  323.9  42.94 \n",
      "idx-9   ckp-5000-1900    |  86.31  12.96   0.73  326.0  43.03 \n",
      "idx-11  ckp-11000-1405   |  78.55  12.44   9.01  320.1  42.16 \n",
      "idx-4   ckp-9000-1954    |  86.25  11.86   1.89  328.6  42.91 \n",
      "idx-7   ckp-5000-1880    |  87.06  11.43   1.51  330.5   42.6 \n",
      "idx-15  ckp-6000-1060    |  80.02  10.73   9.25  317.8  42.04 \n",
      "idx-37  ckp-7000-1940    |  69.24  10.67  20.09  298.2  42.52 \n",
      "idx-16  ckp-6000-1070    |  80.87  10.39   8.74  320.3  42.21 \n",
      "idx-23  ckp-10000-1235   |  81.04  10.07   8.89  320.3  41.76 \n",
      "idx-2   ckp-9000-1850    |  86.08   9.79   4.13  329.9   42.1 \n",
      "idx-36  ckp-7000-1930    |  70.53   9.68  19.79  306.5  42.48 \n",
      "idx-35  ckp-7000-1790    |  61.86   9.67  28.47  286.0  42.39 \n",
      "idx-19  ckp-6000-1100    |  83.52   9.31   7.17  328.6  42.33 \n",
      "idx-18  ckp-6000-1090    |  82.43   9.06   8.51  327.1   42.3 \n"
     ]
    }
   ],
   "source": [
    "print_tuple(sort_eval_res('ccppo-mf_round', key_idx=-4))"
   ]
  },
  {
   "cell_type": "markdown",
   "metadata": {},
   "source": [
    "### Formal Table:"
   ]
  },
  {
   "cell_type": "code",
   "execution_count": 46,
   "metadata": {},
   "outputs": [
    {
     "data": {
      "text/html": [
       "<div>\n",
       "<style scoped>\n",
       "    .dataframe tbody tr th:only-of-type {\n",
       "        vertical-align: middle;\n",
       "    }\n",
       "\n",
       "    .dataframe tbody tr th {\n",
       "        vertical-align: top;\n",
       "    }\n",
       "\n",
       "    .dataframe thead th {\n",
       "        text-align: right;\n",
       "    }\n",
       "</style>\n",
       "<table border=\"1\" class=\"dataframe\">\n",
       "  <thead>\n",
       "    <tr style=\"text-align: right;\">\n",
       "      <th></th>\n",
       "      <th>env</th>\n",
       "      <th>algo</th>\n",
       "      <th>Success Rate</th>\n",
       "      <th>Efficiency</th>\n",
       "      <th>Safety</th>\n",
       "      <th>Individual Return</th>\n",
       "      <th>Social Return</th>\n",
       "      <th>Social Coordination</th>\n",
       "    </tr>\n",
       "  </thead>\n",
       "  <tbody>\n",
       "    <tr>\n",
       "      <th>3</th>\n",
       "      <td>Inter</td>\n",
       "      <td>IPPO \\cite{de2020independent}</td>\n",
       "      <td>73.33 $\\scriptstyle \\pm 14.01$</td>\n",
       "      <td>0.16 $\\scriptstyle \\pm 0.09$</td>\n",
       "      <td>24.07 $\\scriptstyle \\pm 10.40$</td>\n",
       "      <td>107.95 $\\scriptstyle \\pm 12.07$</td>\n",
       "      <td>205.56 $\\scriptstyle \\pm 21.19$</td>\n",
       "      <td>0.58 $\\scriptstyle \\pm 0.15$</td>\n",
       "    </tr>\n",
       "    <tr>\n",
       "      <th>0</th>\n",
       "      <td>Inter</td>\n",
       "      <td>MAPPO \\cite{yang2018mean}</td>\n",
       "      <td>69.93 $\\scriptstyle \\pm 12.55$</td>\n",
       "      <td>0.15 $\\scriptstyle \\pm 0.10$</td>\n",
       "      <td>28.39 $\\scriptstyle \\pm 9.93$</td>\n",
       "      <td>105.59 $\\scriptstyle \\pm 11.00$</td>\n",
       "      <td>199.15 $\\scriptstyle \\pm 20.47$</td>\n",
       "      <td>0.61 $\\scriptstyle \\pm 0.16$</td>\n",
       "    </tr>\n",
       "    <tr>\n",
       "      <th>1</th>\n",
       "      <td>Inter</td>\n",
       "      <td>MFPO \\cite{yu2022surprising}</td>\n",
       "      <td>70.09 $\\scriptstyle \\pm 16.64$</td>\n",
       "      <td>0.15 $\\scriptstyle \\pm 0.11$</td>\n",
       "      <td>27.58 $\\scriptstyle \\pm 14.00$</td>\n",
       "      <td>105.45 $\\scriptstyle \\pm 14.11$</td>\n",
       "      <td>198.45 $\\scriptstyle \\pm 25.52$</td>\n",
       "      <td>0.58 $\\scriptstyle \\pm 0.17$</td>\n",
       "    </tr>\n",
       "    <tr>\n",
       "      <th>2</th>\n",
       "      <td>Inter</td>\n",
       "      <td>CoPO \\cite{peng2021learning}</td>\n",
       "      <td>76.31 $\\scriptstyle \\pm 7.44$</td>\n",
       "      <td>0.19 $\\scriptstyle \\pm 0.06$</td>\n",
       "      <td>23.33 $\\scriptstyle \\pm 6.57$</td>\n",
       "      <td>110.65 $\\scriptstyle \\pm 6.45$</td>\n",
       "      <td>207.17 $\\scriptstyle \\pm 12.01$</td>\n",
       "      <td>0.66 $\\scriptstyle \\pm 0.10$</td>\n",
       "    </tr>\n",
       "    <tr>\n",
       "      <th>4</th>\n",
       "      <td>Inter</td>\n",
       "      <td>SCPO (Ours)</td>\n",
       "      <td>\\textbf{82.28} $\\scriptstyle \\pm 7.51$</td>\n",
       "      <td>\\textbf{0.22} $\\scriptstyle \\pm 0.07$</td>\n",
       "      <td>\\textbf{16.56} $\\scriptstyle \\pm 6.40$</td>\n",
       "      <td>\\textbf{116.53} $\\scriptstyle \\pm 6.63$</td>\n",
       "      <td>\\textbf{221.65} $\\scriptstyle \\pm 13.02$</td>\n",
       "      <td>\\textbf{0.67} $\\scriptstyle \\pm 0.12$</td>\n",
       "    </tr>\n",
       "    <tr>\n",
       "      <th>8</th>\n",
       "      <td>Round</td>\n",
       "      <td>IPPO \\cite{de2020independent}</td>\n",
       "      <td>74.53 $\\scriptstyle \\pm 10.86$</td>\n",
       "      <td>0.09 $\\scriptstyle \\pm 0.04$</td>\n",
       "      <td>14.31 $\\scriptstyle \\pm 6.47$</td>\n",
       "      <td>225.32 $\\scriptstyle \\pm 14.10$</td>\n",
       "      <td>433.06 $\\scriptstyle \\pm 28.23$</td>\n",
       "      <td>0.74 $\\scriptstyle \\pm 0.11$</td>\n",
       "    </tr>\n",
       "    <tr>\n",
       "      <th>5</th>\n",
       "      <td>Round</td>\n",
       "      <td>MAPPO \\cite{yang2018mean}</td>\n",
       "      <td>70.62 $\\scriptstyle \\pm 12.02$</td>\n",
       "      <td>0.08 $\\scriptstyle \\pm 0.03$</td>\n",
       "      <td>14.05 $\\scriptstyle \\pm 6.34$</td>\n",
       "      <td>221.87 $\\scriptstyle \\pm 15.42$</td>\n",
       "      <td>424.84 $\\scriptstyle \\pm 30.15$</td>\n",
       "      <td>0.68 $\\scriptstyle \\pm 0.09$</td>\n",
       "    </tr>\n",
       "    <tr>\n",
       "      <th>6</th>\n",
       "      <td>Round</td>\n",
       "      <td>MFPO \\cite{yu2022surprising}</td>\n",
       "      <td>79.79 $\\scriptstyle \\pm 9.15$</td>\n",
       "      <td>0.12 $\\scriptstyle \\pm 0.04$</td>\n",
       "      <td>14.04 $\\scriptstyle \\pm 5.57$</td>\n",
       "      <td>233.96 $\\scriptstyle \\pm 10.99$</td>\n",
       "      <td>450.21 $\\scriptstyle \\pm 22.04$</td>\n",
       "      <td>0.83 $\\scriptstyle \\pm 0.12$</td>\n",
       "    </tr>\n",
       "    <tr>\n",
       "      <th>7</th>\n",
       "      <td>Round</td>\n",
       "      <td>CoPO \\cite{peng2021learning}</td>\n",
       "      <td>78.31 $\\scriptstyle \\pm 8.89$</td>\n",
       "      <td>0.11 $\\scriptstyle \\pm 0.04$</td>\n",
       "      <td>17.40 $\\scriptstyle \\pm 6.83$</td>\n",
       "      <td>238.57 $\\scriptstyle \\pm 11.27$</td>\n",
       "      <td>470.40 $\\scriptstyle \\pm 22.94$</td>\n",
       "      <td>0.87 $\\scriptstyle \\pm 0.11$</td>\n",
       "    </tr>\n",
       "    <tr>\n",
       "      <th>9</th>\n",
       "      <td>Round</td>\n",
       "      <td>SCPO (Ours)</td>\n",
       "      <td>\\textbf{84.47} $\\scriptstyle \\pm 6.25$</td>\n",
       "      <td>\\textbf{0.14} $\\scriptstyle \\pm 0.04$</td>\n",
       "      <td>\\textbf{13.84} $\\scriptstyle \\pm 5.78$</td>\n",
       "      <td>\\textbf{240.18} $\\scriptstyle \\pm 9.64$</td>\n",
       "      <td>\\textbf{463.69} $\\scriptstyle \\pm 18.30$</td>\n",
       "      <td>\\textbf{0.94} $\\scriptstyle \\pm 0.11$</td>\n",
       "    </tr>\n",
       "  </tbody>\n",
       "</table>\n",
       "</div>"
      ],
      "text/plain": [
       "     env                           algo                            Success Rate                             Efficiency                                  Safety  \\\n",
       "3  Inter  IPPO \\cite{de2020independent}          73.33 $\\scriptstyle \\pm 14.01$           0.16 $\\scriptstyle \\pm 0.09$          24.07 $\\scriptstyle \\pm 10.40$   \n",
       "0  Inter      MAPPO \\cite{yang2018mean}          69.93 $\\scriptstyle \\pm 12.55$           0.15 $\\scriptstyle \\pm 0.10$           28.39 $\\scriptstyle \\pm 9.93$   \n",
       "1  Inter   MFPO \\cite{yu2022surprising}          70.09 $\\scriptstyle \\pm 16.64$           0.15 $\\scriptstyle \\pm 0.11$          27.58 $\\scriptstyle \\pm 14.00$   \n",
       "2  Inter   CoPO \\cite{peng2021learning}           76.31 $\\scriptstyle \\pm 7.44$           0.19 $\\scriptstyle \\pm 0.06$           23.33 $\\scriptstyle \\pm 6.57$   \n",
       "4  Inter                    SCPO (Ours)  \\textbf{82.28} $\\scriptstyle \\pm 7.51$  \\textbf{0.22} $\\scriptstyle \\pm 0.07$  \\textbf{16.56} $\\scriptstyle \\pm 6.40$   \n",
       "8  Round  IPPO \\cite{de2020independent}          74.53 $\\scriptstyle \\pm 10.86$           0.09 $\\scriptstyle \\pm 0.04$           14.31 $\\scriptstyle \\pm 6.47$   \n",
       "5  Round      MAPPO \\cite{yang2018mean}          70.62 $\\scriptstyle \\pm 12.02$           0.08 $\\scriptstyle \\pm 0.03$           14.05 $\\scriptstyle \\pm 6.34$   \n",
       "6  Round   MFPO \\cite{yu2022surprising}           79.79 $\\scriptstyle \\pm 9.15$           0.12 $\\scriptstyle \\pm 0.04$           14.04 $\\scriptstyle \\pm 5.57$   \n",
       "7  Round   CoPO \\cite{peng2021learning}           78.31 $\\scriptstyle \\pm 8.89$           0.11 $\\scriptstyle \\pm 0.04$           17.40 $\\scriptstyle \\pm 6.83$   \n",
       "9  Round                    SCPO (Ours)  \\textbf{84.47} $\\scriptstyle \\pm 6.25$  \\textbf{0.14} $\\scriptstyle \\pm 0.04$  \\textbf{13.84} $\\scriptstyle \\pm 5.78$   \n",
       "\n",
       "                         Individual Return                             Social Return                    Social Coordination  \n",
       "3          107.95 $\\scriptstyle \\pm 12.07$           205.56 $\\scriptstyle \\pm 21.19$           0.58 $\\scriptstyle \\pm 0.15$  \n",
       "0          105.59 $\\scriptstyle \\pm 11.00$           199.15 $\\scriptstyle \\pm 20.47$           0.61 $\\scriptstyle \\pm 0.16$  \n",
       "1          105.45 $\\scriptstyle \\pm 14.11$           198.45 $\\scriptstyle \\pm 25.52$           0.58 $\\scriptstyle \\pm 0.17$  \n",
       "2           110.65 $\\scriptstyle \\pm 6.45$           207.17 $\\scriptstyle \\pm 12.01$           0.66 $\\scriptstyle \\pm 0.10$  \n",
       "4  \\textbf{116.53} $\\scriptstyle \\pm 6.63$  \\textbf{221.65} $\\scriptstyle \\pm 13.02$  \\textbf{0.67} $\\scriptstyle \\pm 0.12$  \n",
       "8          225.32 $\\scriptstyle \\pm 14.10$           433.06 $\\scriptstyle \\pm 28.23$           0.74 $\\scriptstyle \\pm 0.11$  \n",
       "5          221.87 $\\scriptstyle \\pm 15.42$           424.84 $\\scriptstyle \\pm 30.15$           0.68 $\\scriptstyle \\pm 0.09$  \n",
       "6          233.96 $\\scriptstyle \\pm 10.99$           450.21 $\\scriptstyle \\pm 22.04$           0.83 $\\scriptstyle \\pm 0.12$  \n",
       "7          238.57 $\\scriptstyle \\pm 11.27$           470.40 $\\scriptstyle \\pm 22.94$           0.87 $\\scriptstyle \\pm 0.11$  \n",
       "9  \\textbf{240.18} $\\scriptstyle \\pm 9.64$  \\textbf{463.69} $\\scriptstyle \\pm 18.30$  \\textbf{0.94} $\\scriptstyle \\pm 0.11$  "
      ]
     },
     "execution_count": 46,
     "metadata": {},
     "output_type": "execute_result"
    }
   ],
   "source": [
    "data = preprocess_data(root)\n",
    "\n",
    "algo_name_mapping = {\n",
    "    'ippo': 'IPPO \\cite{de2020independent}', \n",
    "    'ccppo-mf': 'MFPO \\cite{yu2022surprising}',\n",
    "    'ccppo-concat': 'MAPPO \\cite{yang2018mean}', \n",
    "    'copo': 'CoPO \\cite{peng2021learning}', \n",
    "    'scpo': 'SCPO (Ours)', \n",
    "}\n",
    "metrics = {\n",
    "    'Success Rate': 'SuccessRate', \n",
    "    'Efficiency': 'efficiency',\n",
    "    'Safety': 'cra_out_rate',\n",
    "    'Individual Return': 'episode_reward_mean', \n",
    "    'Social Return': 'social_r', \n",
    "    'Social Coordination': 'mean_social_r',\n",
    "}\n",
    "formal_table = pd.DataFrame(columns=['env', 'algo']+list(metrics.keys()))\n",
    "\n",
    "LATEX = True\n",
    "if LATEX:\n",
    "    latex_pre = '$\\scriptstyle \\pm'\n",
    "    latex_suf = '$'\n",
    "else:\n",
    "    latex_pre = '('\n",
    "    latex_suf = ')'\n",
    "\n",
    "\n",
    "for env_name, df in data.groupby('env'):\n",
    "    for algo_name, _df in df.groupby('algo'):\n",
    "        # table_results.loc[f'{algo_name}', 'env'] = env_name\n",
    "        row = {\n",
    "            'env': env_name,\n",
    "            'algo': algo_name_mapping[algo_name],\n",
    "            # 'Success Rate': _df[''].mean(),\n",
    "        }\n",
    "        if algo_name == 'scpo':\n",
    "            latext_bf_pre = '\\\\textbf{'\n",
    "            latext_bf_suf = '}'\n",
    "        else:\n",
    "            latext_bf_pre = ''\n",
    "            latext_bf_suf = ''\n",
    "        for met in metrics:\n",
    "            _col =_df[metrics[met]]\n",
    "            row.update({\n",
    "                f'{met}': f\"{latext_bf_pre}{_col.mean():.2f}{latext_bf_suf} {latex_pre} {_col.std():.2f}{latex_suf}\"\n",
    "            })\n",
    "         \n",
    "        formal_table.loc[len(formal_table)] = row\n",
    "    \n",
    "formal_table = formal_table.reindex([3, 0, 1, 2, 4, 8, 5, 6, 7, 9])\n",
    "formal_table"
   ]
  },
  {
   "cell_type": "code",
   "execution_count": 47,
   "metadata": {},
   "outputs": [
    {
     "name": "stdout",
     "output_type": "stream",
     "text": [
      "\\begin{tabular}{lllllll}\n",
      "\\toprule\n",
      "algo & Success Rate & Efficiency & Safety & Individual Return & Social Return & Social Coordination \\\\\n",
      "\\midrule\n",
      "IPPO \\cite{de2020independent} & 73.33 $\\scriptstyle \\pm 14.01$ & 0.16 $\\scriptstyle \\pm 0.09$ & 24.07 $\\scriptstyle \\pm 10.40$ & 107.95 $\\scriptstyle \\pm 12.07$ & 205.56 $\\scriptstyle \\pm 21.19$ & 0.58 $\\scriptstyle \\pm 0.15$ \\\\\n",
      "MAPPO \\cite{yang2018mean} & 69.93 $\\scriptstyle \\pm 12.55$ & 0.15 $\\scriptstyle \\pm 0.10$ & 28.39 $\\scriptstyle \\pm 9.93$ & 105.59 $\\scriptstyle \\pm 11.00$ & 199.15 $\\scriptstyle \\pm 20.47$ & 0.61 $\\scriptstyle \\pm 0.16$ \\\\\n",
      "MFPO \\cite{yu2022surprising} & 70.09 $\\scriptstyle \\pm 16.64$ & 0.15 $\\scriptstyle \\pm 0.11$ & 27.58 $\\scriptstyle \\pm 14.00$ & 105.45 $\\scriptstyle \\pm 14.11$ & 198.45 $\\scriptstyle \\pm 25.52$ & 0.58 $\\scriptstyle \\pm 0.17$ \\\\\n",
      "CoPO \\cite{peng2021learning} & 76.31 $\\scriptstyle \\pm 7.44$ & 0.19 $\\scriptstyle \\pm 0.06$ & 23.33 $\\scriptstyle \\pm 6.57$ & 110.65 $\\scriptstyle \\pm 6.45$ & 207.17 $\\scriptstyle \\pm 12.01$ & 0.66 $\\scriptstyle \\pm 0.10$ \\\\\n",
      "SCPO (Ours) & \\textbf{82.28} $\\scriptstyle \\pm 7.51$ & \\textbf{0.22} $\\scriptstyle \\pm 0.07$ & \\textbf{16.56} $\\scriptstyle \\pm 6.40$ & \\textbf{116.53} $\\scriptstyle \\pm 6.63$ & \\textbf{221.65} $\\scriptstyle \\pm 13.02$ & \\textbf{0.67} $\\scriptstyle \\pm 0.12$ \\\\\n",
      "IPPO \\cite{de2020independent} & 74.53 $\\scriptstyle \\pm 10.86$ & 0.09 $\\scriptstyle \\pm 0.04$ & 14.31 $\\scriptstyle \\pm 6.47$ & 225.32 $\\scriptstyle \\pm 14.10$ & 433.06 $\\scriptstyle \\pm 28.23$ & 0.74 $\\scriptstyle \\pm 0.11$ \\\\\n",
      "MAPPO \\cite{yang2018mean} & 70.62 $\\scriptstyle \\pm 12.02$ & 0.08 $\\scriptstyle \\pm 0.03$ & 14.05 $\\scriptstyle \\pm 6.34$ & 221.87 $\\scriptstyle \\pm 15.42$ & 424.84 $\\scriptstyle \\pm 30.15$ & 0.68 $\\scriptstyle \\pm 0.09$ \\\\\n",
      "MFPO \\cite{yu2022surprising} & 79.79 $\\scriptstyle \\pm 9.15$ & 0.12 $\\scriptstyle \\pm 0.04$ & 14.04 $\\scriptstyle \\pm 5.57$ & 233.96 $\\scriptstyle \\pm 10.99$ & 450.21 $\\scriptstyle \\pm 22.04$ & 0.83 $\\scriptstyle \\pm 0.12$ \\\\\n",
      "CoPO \\cite{peng2021learning} & 78.31 $\\scriptstyle \\pm 8.89$ & 0.11 $\\scriptstyle \\pm 0.04$ & 17.40 $\\scriptstyle \\pm 6.83$ & 238.57 $\\scriptstyle \\pm 11.27$ & 470.40 $\\scriptstyle \\pm 22.94$ & 0.87 $\\scriptstyle \\pm 0.11$ \\\\\n",
      "SCPO (Ours) & \\textbf{84.47} $\\scriptstyle \\pm 6.25$ & \\textbf{0.14} $\\scriptstyle \\pm 0.04$ & \\textbf{13.84} $\\scriptstyle \\pm 5.78$ & \\textbf{240.18} $\\scriptstyle \\pm 9.64$ & \\textbf{463.69} $\\scriptstyle \\pm 18.30$ & \\textbf{0.94} $\\scriptstyle \\pm 0.11$ \\\\\n",
      "\\bottomrule\n",
      "\\end{tabular}\n",
      "\n"
     ]
    }
   ],
   "source": [
    "print(formal_table.iloc[:, 1:].to_latex(index=False, escape=False))"
   ]
  },
  {
   "cell_type": "markdown",
   "metadata": {},
   "source": [
    "## Compare other metrics by algo & scene"
   ]
  },
  {
   "cell_type": "code",
   "execution_count": 7,
   "metadata": {},
   "outputs": [],
   "source": [
    "def get_one_algo_scene(algo, scene, metric: str, root=root):\n",
    "    algo_scene = f'{algo}_{scene}'\n",
    "\n",
    "    csv_list = []\n",
    "    count = 0\n",
    "    all_file_names = os.listdir(root)\n",
    "    for name in all_file_names:\n",
    "        if algo_scene in name:\n",
    "            count += 1\n",
    "            csv_list.append(pd.read_csv(osp.join(root, name)))\n",
    "    print(f'Found {count} eval results(csv) of {algo_scene}.')\n",
    "\n",
    "    data = pd.concat(csv_list)\n",
    "\n",
    "    ret = pd.DataFrame(columns=[metric])\n",
    "    ret[metric] = data[metric]\n",
    "\n",
    "    return ret"
   ]
  },
  {
   "cell_type": "markdown",
   "metadata": {},
   "source": [
    "cancat all algo for one scene, then use `groupby()`:"
   ]
  },
  {
   "cell_type": "code",
   "execution_count": 12,
   "metadata": {},
   "outputs": [],
   "source": [
    "def concat_all_algo(scene: str, root=root):\n",
    "    csv_list = []\n",
    "    count = 0\n",
    "    all_file_names = os.listdir(root)\n",
    "    for name in all_file_names:\n",
    "        if scene in name:\n",
    "            count += 1\n",
    "            csv_list.append(pd.read_csv(osp.join(root, name)))\n",
    "    print(f'Found {count} eval results(csv) of {scene}.')\n",
    "\n",
    "    return pd.concat(csv_list)"
   ]
  },
  {
   "cell_type": "code",
   "execution_count": 130,
   "metadata": {},
   "outputs": [
    {
     "name": "stdout",
     "output_type": "stream",
     "text": [
      "Found 164 eval results(csv) of round.\n"
     ]
    }
   ],
   "source": [
    "data = concat_all_algo('round')"
   ]
  },
  {
   "cell_type": "markdown",
   "metadata": {},
   "source": [
    "### Add some new columns to df"
   ]
  },
  {
   "cell_type": "code",
   "execution_count": 131,
   "metadata": {},
   "outputs": [
    {
     "name": "stdout",
     "output_type": "stream",
     "text": [
      "\n",
      "[num_agents_total]\n",
      "---------------------------------\n",
      "ccppo-concat  | 79.75(10.10)\n",
      "ccppo-mf      | 90.67(12.19)\n",
      "copo          | 93.48(10.19)\n",
      "ippo          | 87.48(13.04)\n",
      "scpo          | 103.07(11.80)\n",
      "\n",
      "[episode_reward_mean]\n",
      "---------------------------------\n",
      "ccppo-concat  | 224.43(15.57)\n",
      "ccppo-mf      | 233.99(11.44)\n",
      "copo          | 239.44(11.37)\n",
      "ippo          | 227.30(17.47)\n",
      "scpo          | 237.51(10.71)\n",
      "\n",
      "[episode_length_mean]\n",
      "---------------------------------\n",
      "ccppo-concat  | 638.14(59.94)\n",
      "ccppo-mf      | 564.74(77.47)\n",
      "copo          | 554.48(77.90)\n",
      "ippo          | 587.68(78.01)\n",
      "scpo          | 488.86(68.96)\n",
      "\n",
      "[svo_estimate_deg_mean]\n",
      "---------------------------------\n",
      "ccppo-concat  | 42.34(0.74)\n",
      "ccppo-mf      | 42.48(0.79)\n",
      "copo          | 44.29(0.97)\n",
      "ippo          | 42.35(0.79)\n",
      "scpo          | 42.96(0.72)\n",
      "\n",
      "[svo_reward]\n",
      "---------------------------------\n",
      "ccppo-concat  | 304.23(21.57)\n",
      "ccppo-mf      | 318.47(16.04)\n",
      "copo          | 334.25(16.61)\n",
      "ippo          | 309.33(24.90)\n",
      "scpo          | 324.76(14.25)\n"
     ]
    }
   ],
   "source": [
    "metrics = ['num_agents_total', 'episode_reward_mean', 'episode_length_mean', 'svo_estimate_deg_mean', 'svo_reward']\n",
    "\n",
    "\n",
    "for metric in metrics:\n",
    "    print(f'\\n[{metric}]')\n",
    "    print('-----------'*3)\n",
    "    for algo_name, df in data.groupby('algo'):\n",
    "        print(f'{algo_name:14}| {df[metric].mean():.2f}({df[metric].std():.2f})')"
   ]
  },
  {
   "cell_type": "code",
   "execution_count": 132,
   "metadata": {},
   "outputs": [
    {
     "name": "stdout",
     "output_type": "stream",
     "text": [
      "ccppo-concat  | 42.34(0.74) | max: 44.76 | min: 40.42\n",
      "ccppo-mf      | 42.48(0.79) | max: 45.72 | min: 40.42\n",
      "copo          | 44.29(0.97) | max: 46.99 | min: 42.19\n",
      "ippo          | 42.35(0.79) | max: 44.62 | min: 40.13\n",
      "scpo          | 42.96(0.72) | max: 45.11 | min: 40.87\n"
     ]
    }
   ],
   "source": [
    "metric = 'svo_estimate_deg_mean'\n",
    "for algo_name, df in data.groupby('algo'):\n",
    "    print(f'{algo_name:14}| {df[metric].mean():.2f}({df[metric].std():.2f}) | max: {df[metric].max():.2f} | min: {df[metric].min():.2f}')"
   ]
  },
  {
   "cell_type": "markdown",
   "metadata": {},
   "source": [
    "### Prepare data for new svo degree computation"
   ]
  },
  {
   "cell_type": "code",
   "execution_count": 133,
   "metadata": {},
   "outputs": [],
   "source": [
    "columns = ['algo', 'episode_reward_mean', 'svo_reward', 'svo_estimate_deg_mean']\n",
    "new_data = pd.DataFrame(columns=columns)\n",
    "for col in columns:\n",
    "    new_data[col] = data[col]"
   ]
  },
  {
   "cell_type": "code",
   "execution_count": 134,
   "metadata": {},
   "outputs": [],
   "source": [
    "new_data = new_data.reset_index(drop=True)"
   ]
  },
  {
   "cell_type": "code",
   "execution_count": 135,
   "metadata": {},
   "outputs": [
    {
     "data": {
      "text/html": [
       "<div>\n",
       "<style scoped>\n",
       "    .dataframe tbody tr th:only-of-type {\n",
       "        vertical-align: middle;\n",
       "    }\n",
       "\n",
       "    .dataframe tbody tr th {\n",
       "        vertical-align: top;\n",
       "    }\n",
       "\n",
       "    .dataframe thead th {\n",
       "        text-align: right;\n",
       "    }\n",
       "</style>\n",
       "<table border=\"1\" class=\"dataframe\">\n",
       "  <thead>\n",
       "    <tr style=\"text-align: right;\">\n",
       "      <th></th>\n",
       "      <th>algo</th>\n",
       "      <th>episode_reward_mean</th>\n",
       "      <th>svo_reward</th>\n",
       "      <th>svo_estimate_deg_mean</th>\n",
       "    </tr>\n",
       "  </thead>\n",
       "  <tbody>\n",
       "    <tr>\n",
       "      <th>0</th>\n",
       "      <td>ccppo-mf</td>\n",
       "      <td>234.449516</td>\n",
       "      <td>320.225008</td>\n",
       "      <td>43.166971</td>\n",
       "    </tr>\n",
       "    <tr>\n",
       "      <th>1</th>\n",
       "      <td>ccppo-mf</td>\n",
       "      <td>229.146679</td>\n",
       "      <td>312.868965</td>\n",
       "      <td>42.866129</td>\n",
       "    </tr>\n",
       "    <tr>\n",
       "      <th>2</th>\n",
       "      <td>ccppo-mf</td>\n",
       "      <td>246.006183</td>\n",
       "      <td>337.326604</td>\n",
       "      <td>42.643110</td>\n",
       "    </tr>\n",
       "    <tr>\n",
       "      <th>3</th>\n",
       "      <td>ccppo-mf</td>\n",
       "      <td>236.669085</td>\n",
       "      <td>322.253778</td>\n",
       "      <td>42.683916</td>\n",
       "    </tr>\n",
       "    <tr>\n",
       "      <th>4</th>\n",
       "      <td>ccppo-mf</td>\n",
       "      <td>252.252888</td>\n",
       "      <td>346.140469</td>\n",
       "      <td>42.325738</td>\n",
       "    </tr>\n",
       "    <tr>\n",
       "      <th>...</th>\n",
       "      <td>...</td>\n",
       "      <td>...</td>\n",
       "      <td>...</td>\n",
       "      <td>...</td>\n",
       "    </tr>\n",
       "    <tr>\n",
       "      <th>3275</th>\n",
       "      <td>copo</td>\n",
       "      <td>245.720786</td>\n",
       "      <td>335.227651</td>\n",
       "      <td>43.028670</td>\n",
       "    </tr>\n",
       "    <tr>\n",
       "      <th>3276</th>\n",
       "      <td>copo</td>\n",
       "      <td>254.324859</td>\n",
       "      <td>347.405680</td>\n",
       "      <td>42.542118</td>\n",
       "    </tr>\n",
       "    <tr>\n",
       "      <th>3277</th>\n",
       "      <td>copo</td>\n",
       "      <td>237.513363</td>\n",
       "      <td>325.527960</td>\n",
       "      <td>42.760549</td>\n",
       "    </tr>\n",
       "    <tr>\n",
       "      <th>3278</th>\n",
       "      <td>copo</td>\n",
       "      <td>247.145451</td>\n",
       "      <td>337.362508</td>\n",
       "      <td>42.915593</td>\n",
       "    </tr>\n",
       "    <tr>\n",
       "      <th>3279</th>\n",
       "      <td>copo</td>\n",
       "      <td>223.673080</td>\n",
       "      <td>304.691425</td>\n",
       "      <td>44.133936</td>\n",
       "    </tr>\n",
       "  </tbody>\n",
       "</table>\n",
       "<p>3280 rows × 4 columns</p>\n",
       "</div>"
      ],
      "text/plain": [
       "          algo  episode_reward_mean  svo_reward  svo_estimate_deg_mean\n",
       "0     ccppo-mf           234.449516  320.225008              43.166971\n",
       "1     ccppo-mf           229.146679  312.868965              42.866129\n",
       "2     ccppo-mf           246.006183  337.326604              42.643110\n",
       "3     ccppo-mf           236.669085  322.253778              42.683916\n",
       "4     ccppo-mf           252.252888  346.140469              42.325738\n",
       "...        ...                  ...         ...                    ...\n",
       "3275      copo           245.720786  335.227651              43.028670\n",
       "3276      copo           254.324859  347.405680              42.542118\n",
       "3277      copo           237.513363  325.527960              42.760549\n",
       "3278      copo           247.145451  337.362508              42.915593\n",
       "3279      copo           223.673080  304.691425              44.133936\n",
       "\n",
       "[3280 rows x 4 columns]"
      ]
     },
     "execution_count": 135,
     "metadata": {},
     "output_type": "execute_result"
    }
   ],
   "source": [
    "new_data"
   ]
  },
  {
   "cell_type": "code",
   "execution_count": 136,
   "metadata": {},
   "outputs": [],
   "source": [
    "new_data['nei_r_new'] = new_data.apply(lambda row: np.sqrt(row['svo_reward']**2 - row['episode_reward_mean']**2), axis=1)\n",
    "new_data['social_r'] = new_data['nei_r_new'] + new_data['episode_reward_mean']\n",
    "new_data['svo_ratio_new'] = new_data.apply(lambda row: np.rad2deg(np.arctan2(row['nei_r_new'], row['episode_reward_mean'])), axis=1)\n",
    "new_data['svo_diff'] = new_data['svo_estimate_deg_mean'] - new_data['svo_ratio_new']"
   ]
  },
  {
   "cell_type": "code",
   "execution_count": 137,
   "metadata": {},
   "outputs": [
    {
     "name": "stdout",
     "output_type": "stream",
     "text": [
      "ccppo-concat  | 42.46(0.33) | max: 43.45 | min: 41.37 | -0.12\n",
      "ccppo-mf      | 42.71(0.41) | max: 43.68 | min: 41.27 | -0.23\n",
      "copo          | 44.22(0.88) | max: 45.58 | min: 42.29 | 0.07\n",
      "ippo          | 42.69(0.43) | max: 43.88 | min: 41.35 | -0.34\n",
      "scpo          | 43.00(0.35) | max: 44.02 | min: 41.99 | -0.04\n"
     ]
    }
   ],
   "source": [
    "metric = 'svo_ratio_new'\n",
    "for algo_name, df in new_data.groupby('algo'):\n",
    "    print(f'{algo_name:14}| {df[metric].mean():.2f}({df[metric].std():.2f}) | max: {df[metric].max():.2f} | min: {df[metric].min():.2f} | {df.svo_diff.mean():.2f}')"
   ]
  },
  {
   "cell_type": "code",
   "execution_count": 138,
   "metadata": {},
   "outputs": [
    {
     "name": "stdout",
     "output_type": "stream",
     "text": [
      "ccppo-concat  | 429.81(30.52) | max: 508.17 | min: 315.19\n",
      "ccppo-mf      | 450.02(22.71) | max: 512.04 | min: 343.64\n",
      "copo          | 472.60(23.51) | max: 536.92 | min: 399.70\n",
      "ippo          | 437.10(35.26) | max: 527.25 | min: 324.29\n",
      "scpo          | 458.99(20.12) | max: 522.90 | min: 393.45\n"
     ]
    }
   ],
   "source": [
    "metric = 'social_r'\n",
    "for algo_name, df in new_data.groupby('algo'):\n",
    "    print(f'{algo_name:14}| {df[metric].mean():.2f}({df[metric].std():.2f}) | max: {df[metric].max():.2f} | min: {df[metric].min():.2f}')"
   ]
  },
  {
   "cell_type": "code",
   "execution_count": 120,
   "metadata": {},
   "outputs": [
    {
     "ename": "NameError",
     "evalue": "name 'new_data' is not defined",
     "output_type": "error",
     "traceback": [
      "\u001b[0;31m---------------------------------------------------------------------------\u001b[0m",
      "\u001b[0;31mNameError\u001b[0m                                 Traceback (most recent call last)",
      "Cell \u001b[0;32mIn[120], line 1\u001b[0m\n\u001b[0;32m----> 1\u001b[0m \u001b[43mnew_data\u001b[49m\n",
      "\u001b[0;31mNameError\u001b[0m: name 'new_data' is not defined"
     ]
    }
   ],
   "source": [
    "new_data"
   ]
  },
  {
   "cell_type": "code",
   "execution_count": null,
   "metadata": {},
   "outputs": [
    {
     "name": "stdout",
     "output_type": "stream",
     "text": [
      "ccppo-concat  | 429.81(30.52) | max: 508.17 | min: 315.19\n",
      "ccppo-mf      | 450.02(22.71) | max: 512.04 | min: 343.64\n",
      "copo          | 472.60(23.51) | max: 536.92 | min: 399.70\n",
      "ippo          | 437.10(35.26) | max: 527.25 | min: 324.29\n",
      "scpo          | 458.99(20.12) | max: 522.90 | min: 393.45\n"
     ]
    }
   ],
   "source": [
    "metric = 'social_r'\n",
    "for algo_name, df in new_data.groupby('algo'):\n",
    "    print(f'{algo_name:14}| {df[metric].mean():.2f}({df[metric].std():.2f}) | max: {df[metric].max():.2f} | min: {df[metric].min():.2f}')"
   ]
  },
  {
   "cell_type": "code",
   "execution_count": 60,
   "metadata": {},
   "outputs": [],
   "source": [
    "def norm(a, b):\n",
    "    return math.sqrt(a**2 + b**2)"
   ]
  },
  {
   "cell_type": "code",
   "execution_count": 54,
   "metadata": {},
   "outputs": [
    {
     "name": "stdout",
     "output_type": "stream",
     "text": [
      "86.96514644999236\n",
      "svo new 145.40349926005433\n",
      "nei_r_new 105.13829749430032\n",
      "new svo 42.058114315411856\n"
     ]
    }
   ],
   "source": [
    "own_r_mean =  116.53\n",
    "nei_r_mean = own_r_mean * np.cos(np.deg2rad(41.73))\n",
    "print(nei_r_mean)\n",
    "\n",
    "print('svo new', norm(own_r_mean, nei_r_mean))\n",
    "\n",
    "svo_r = 156.95\n",
    "nei_r_new = math.sqrt(svo_r**2 - own_r_mean**2)\n",
    "print('nei_r_new', nei_r_new)\n",
    "print('new svo', np.rad2deg(math.atan2(nei_r_new, own_r_mean)))"
   ]
  },
  {
   "cell_type": "code",
   "execution_count": 55,
   "metadata": {},
   "outputs": [
    {
     "name": "stdout",
     "output_type": "stream",
     "text": [
      "78.77619823276486\n",
      "svo new 131.7381399140274\n",
      "nei_r_new 93.57959179222786\n",
      "new svo 41.54910476349994\n"
     ]
    }
   ],
   "source": [
    "own_r_mean = 105.59\n",
    "nei_r_mean = own_r_mean * np.cos(np.deg2rad(41.75))\n",
    "print(nei_r_mean)\n",
    "\n",
    "print('svo new', norm(own_r_mean, nei_r_mean))\n",
    "\n",
    "svo_r = 141.09\n",
    "nei_r_new = math.sqrt(svo_r**2 - own_r_mean**2)\n",
    "print('nei_r_new', nei_r_new)\n",
    "print('new svo', np.rad2deg(math.atan2(nei_r_new, own_r_mean)))"
   ]
  },
  {
   "cell_type": "markdown",
   "metadata": {},
   "source": [
    "## 3 Ablation Studies"
   ]
  },
  {
   "cell_type": "markdown",
   "metadata": {},
   "source": [
    "Concat csv files for all methods:"
   ]
  },
  {
   "cell_type": "markdown",
   "metadata": {},
   "source": [
    "> We only conduct ablation studies in `Intersection`!"
   ]
  },
  {
   "cell_type": "code",
   "execution_count": 7,
   "metadata": {},
   "outputs": [
    {
     "ename": "FileNotFoundError",
     "evalue": "[Errno 2] No such file or directory: 'eval_results/ablation/scpo-no-cpo/inter'",
     "output_type": "error",
     "traceback": [
      "\u001b[0;31m---------------------------------------------------------------------------\u001b[0m",
      "\u001b[0;31mFileNotFoundError\u001b[0m                         Traceback (most recent call last)",
      "Cell \u001b[0;32mIn[7], line 2\u001b[0m\n\u001b[1;32m      1\u001b[0m root_scpo_no_cpo \u001b[38;5;241m=\u001b[39m \u001b[38;5;124m'\u001b[39m\u001b[38;5;124meval_results/ablation/scpo-no-cpo/inter\u001b[39m\u001b[38;5;124m'\u001b[39m\n\u001b[0;32m----> 2\u001b[0m _df \u001b[38;5;241m=\u001b[39m \u001b[43mpreprocess_data\u001b[49m\u001b[43m(\u001b[49m\u001b[43mroot_scpo_no_cpo\u001b[49m\u001b[43m)\u001b[49m\n\u001b[1;32m      3\u001b[0m _df\u001b[38;5;241m.\u001b[39malgo\u001b[38;5;241m.\u001b[39munique()\n",
      "Cell \u001b[0;32mIn[6], line 9\u001b[0m, in \u001b[0;36mpreprocess_data\u001b[0;34m(root)\u001b[0m\n\u001b[1;32m      1\u001b[0m \u001b[38;5;28;01mdef\u001b[39;00m \u001b[38;5;21mpreprocess_data\u001b[39m(root):\n\u001b[1;32m      2\u001b[0m     \u001b[38;5;66;03m# root: path for eval results' csv files, containing dirs grouped in algos, e.g.,\u001b[39;00m\n\u001b[1;32m      3\u001b[0m     \u001b[38;5;66;03m# root/\u001b[39;00m\n\u001b[0;32m   (...)\u001b[0m\n\u001b[1;32m      6\u001b[0m \n\u001b[1;32m      7\u001b[0m     \u001b[38;5;66;03m# read and concat every csv file in root:\u001b[39;00m\n\u001b[1;32m      8\u001b[0m     csv_list \u001b[38;5;241m=\u001b[39m []\n\u001b[0;32m----> 9\u001b[0m     all_file_names \u001b[38;5;241m=\u001b[39m [ osp\u001b[38;5;241m.\u001b[39mjoin(root, name) \u001b[38;5;28;01mfor\u001b[39;00m name \u001b[38;5;129;01min\u001b[39;00m \u001b[43mos\u001b[49m\u001b[38;5;241;43m.\u001b[39;49m\u001b[43mlistdir\u001b[49m\u001b[43m(\u001b[49m\u001b[43mroot\u001b[49m\u001b[43m)\u001b[49m \u001b[38;5;28;01mif\u001b[39;00m \u001b[38;5;124m'\u001b[39m\u001b[38;5;124mcsv\u001b[39m\u001b[38;5;124m'\u001b[39m \u001b[38;5;129;01min\u001b[39;00m name ]\n\u001b[1;32m     10\u001b[0m     \u001b[38;5;28;01mfor\u001b[39;00m name \u001b[38;5;129;01min\u001b[39;00m all_file_names:\n\u001b[1;32m     11\u001b[0m         csv_list\u001b[38;5;241m.\u001b[39mappend(pd\u001b[38;5;241m.\u001b[39mread_csv(name))\n",
      "\u001b[0;31mFileNotFoundError\u001b[0m: [Errno 2] No such file or directory: 'eval_results/ablation/scpo-no-cpo/inter'"
     ]
    }
   ],
   "source": [
    "root_scpo_no_cpo = 'eval_results/ablation/scpo-no-cpo/inter'\n",
    "_df = preprocess_data(root_scpo_no_cpo)\n",
    "_df.algo.unique()"
   ]
  },
  {
   "cell_type": "code",
   "execution_count": 70,
   "metadata": {},
   "outputs": [
    {
     "ename": "SyntaxError",
     "evalue": "expression cannot contain assignment, perhaps you meant \"==\"? (1632867497.py, line 2)",
     "output_type": "error",
     "traceback": [
      "\u001b[0;36m  Cell \u001b[0;32mIn[70], line 2\u001b[0;36m\u001b[0m\n\u001b[0;31m    _df = preprocess_data(root_scpo_no_cpo).apply(lambda x: x.algo = 'scpo-no-cpo')\u001b[0m\n\u001b[0m                                                  ^\u001b[0m\n\u001b[0;31mSyntaxError\u001b[0m\u001b[0;31m:\u001b[0m expression cannot contain assignment, perhaps you meant \"==\"?\n"
     ]
    }
   ],
   "source": [
    "root_scpo_no_cpo = 'eval_results/ablation/scpo-no-cpo/inter'\n",
    "_df = preprocess_data(root_scpo_no_cpo).apply(lambda x: x.algo = 'scpo-no-cpo')\n",
    "_df.algo.unique()"
   ]
  },
  {
   "cell_type": "code",
   "execution_count": 68,
   "metadata": {},
   "outputs": [
    {
     "data": {
      "text/plain": [
       "array(['scpo-no-cpo'], dtype=object)"
      ]
     },
     "execution_count": 68,
     "metadata": {},
     "output_type": "execute_result"
    }
   ],
   "source": [
    "_df.algo.unique()"
   ]
  },
  {
   "cell_type": "code",
   "execution_count": 86,
   "metadata": {},
   "outputs": [],
   "source": [
    "_l = []\n",
    "\n",
    "# 处理算法名\n",
    "# eval时 `algo name` 搞错了导致的 `scpo-no-cpo` 的名字变成了 `ABLATION`\n",
    "_name_roots = {\n",
    "    'scpo-no-sch': 'eval_results/ablation/scpo-no-sch/inter',\n",
    "    'scpo-no-cpo': 'eval_results/ablation/scpo-no-cpo/inter',\n",
    "}\n",
    "for name, root in _name_roots.items():\n",
    "    _df = preprocess_data(root)\n",
    "    _df.algo = name\n",
    "    _l.append(_df)\n",
    "\n",
    "# read ablation-variants\n",
    "roots_to_eval = dict(\n",
    "    root_ippo_rs = 'eval_results/ablation/ippo-rs/inter',\n",
    "    root_ippo_dc = 'eval_results/ablation/ippo-dc/inter',\n",
    ")\n",
    "for name, root in roots_to_eval.items():\n",
    "    _l.append(preprocess_data(root))\n",
    "\n",
    "# read scpo\n",
    "data = preprocess_data('eval_results')\n",
    "_l.append(data[(data['algo'] == 'scpo') & (data['env'] == 'Inter')].copy())\n",
    "_l.append(data[(data['algo'] == 'ippo') & (data['env'] == 'Inter')].copy())\n",
    "\n",
    "data = pd.concat(_l).reset_index()"
   ]
  },
  {
   "cell_type": "code",
   "execution_count": 87,
   "metadata": {},
   "outputs": [
    {
     "name": "stdout",
     "output_type": "stream",
     "text": [
      "['scpo-no-sch' 'scpo-no-cpo' 'exp_IPPO-RS' 'exp_IPPO-DC' 'scpo' 'ippo']\n",
      "['Inter']\n"
     ]
    }
   ],
   "source": [
    "print(data.algo.unique())\n",
    "print(data.env.unique())"
   ]
  },
  {
   "cell_type": "code",
   "execution_count": 88,
   "metadata": {},
   "outputs": [
    {
     "name": "stdout",
     "output_type": "stream",
     "text": [
      "Index(['index', 'Unnamed: 0', 'velocity_step_mean_episode_min', 'velocity_step_mean_episode_mean', 'velocity_step_mean_episode_max', 'energy_step_mean_episode_min', 'energy_step_mean_episode_mean',\n",
      "       'energy_step_mean_episode_max', 'num_neighbours_mean_episode_mean', 'num_neighbours_mean_episode_max', 'num_agents_total', 'num_agents_total_per_300_steps', 'success_rate',\n",
      "       'num_agents_success', 'num_agents_success_per_300_steps', 'num_agents_failed_per_300_steps', 'episode_reward_mean', 'episode_reward_min', 'episode_reward_max', 'episode_cost_mean',\n",
      "       'episode_cost_min', 'episode_cost_max', 'episode_cost_sum', 'crash_rate', 'num_agents_crash', 'out_rate', 'num_agents_out', 'episode_length_mean', 'success_episode_length_mean',\n",
      "       'svo_estimate_deg_mean', 'svo_estimate_deg_min', 'svo_estimate_deg_max', 'svo_reward', 'path', 'ckpt_idx', 'algo', 'env', 'seed', 'trial', 'trial_path', 'should_wrap_copo_env',\n",
      "       'should_wrap_cc_env', 'episode', 'SuccessRate', 'cra_out_rate', 'efficiency', 'maxstep_rate', 'nei_r', 'social_r', 'r_per_step', 'sr_per_step', 'mean_social_r'],\n",
      "      dtype='object')\n"
     ]
    }
   ],
   "source": [
    "print(data.columns)"
   ]
  },
  {
   "cell_type": "code",
   "execution_count": 8,
   "metadata": {},
   "outputs": [],
   "source": [
    "data = preprocess_data('eval_results')"
   ]
  },
  {
   "cell_type": "code",
   "execution_count": 9,
   "metadata": {},
   "outputs": [
    {
     "data": {
      "text/html": [
       "<div>\n",
       "<style scoped>\n",
       "    .dataframe tbody tr th:only-of-type {\n",
       "        vertical-align: middle;\n",
       "    }\n",
       "\n",
       "    .dataframe tbody tr th {\n",
       "        vertical-align: top;\n",
       "    }\n",
       "\n",
       "    .dataframe thead th {\n",
       "        text-align: right;\n",
       "    }\n",
       "</style>\n",
       "<table border=\"1\" class=\"dataframe\">\n",
       "  <thead>\n",
       "    <tr style=\"text-align: right;\">\n",
       "      <th></th>\n",
       "      <th>env</th>\n",
       "      <th>algo</th>\n",
       "      <th>Success Rate</th>\n",
       "      <th>Efficiency</th>\n",
       "      <th>Safety</th>\n",
       "    </tr>\n",
       "  </thead>\n",
       "  <tbody>\n",
       "    <tr>\n",
       "      <th>2</th>\n",
       "      <td>NaN</td>\n",
       "      <td>NaN</td>\n",
       "      <td>NaN</td>\n",
       "      <td>NaN</td>\n",
       "      <td>NaN</td>\n",
       "    </tr>\n",
       "    <tr>\n",
       "      <th>1</th>\n",
       "      <td>NaN</td>\n",
       "      <td>NaN</td>\n",
       "      <td>NaN</td>\n",
       "      <td>NaN</td>\n",
       "      <td>NaN</td>\n",
       "    </tr>\n",
       "    <tr>\n",
       "      <th>0</th>\n",
       "      <td>Round</td>\n",
       "      <td>SCPO (Ours)</td>\n",
       "      <td>\\textbf{84.47} $\\scriptstyle \\pm 6.25$</td>\n",
       "      <td>\\textbf{0.14} $\\scriptstyle \\pm 0.04$</td>\n",
       "      <td>\\textbf{13.84} $\\scriptstyle \\pm 5.78$</td>\n",
       "    </tr>\n",
       "    <tr>\n",
       "      <th>4</th>\n",
       "      <td>NaN</td>\n",
       "      <td>NaN</td>\n",
       "      <td>NaN</td>\n",
       "      <td>NaN</td>\n",
       "      <td>NaN</td>\n",
       "    </tr>\n",
       "    <tr>\n",
       "      <th>5</th>\n",
       "      <td>NaN</td>\n",
       "      <td>NaN</td>\n",
       "      <td>NaN</td>\n",
       "      <td>NaN</td>\n",
       "      <td>NaN</td>\n",
       "    </tr>\n",
       "    <tr>\n",
       "      <th>3</th>\n",
       "      <td>NaN</td>\n",
       "      <td>NaN</td>\n",
       "      <td>NaN</td>\n",
       "      <td>NaN</td>\n",
       "      <td>NaN</td>\n",
       "    </tr>\n",
       "  </tbody>\n",
       "</table>\n",
       "</div>"
      ],
      "text/plain": [
       "     env         algo                            Success Rate                             Efficiency                                  Safety\n",
       "2    NaN          NaN                                     NaN                                    NaN                                     NaN\n",
       "1    NaN          NaN                                     NaN                                    NaN                                     NaN\n",
       "0  Round  SCPO (Ours)  \\textbf{84.47} $\\scriptstyle \\pm 6.25$  \\textbf{0.14} $\\scriptstyle \\pm 0.04$  \\textbf{13.84} $\\scriptstyle \\pm 5.78$\n",
       "4    NaN          NaN                                     NaN                                    NaN                                     NaN\n",
       "5    NaN          NaN                                     NaN                                    NaN                                     NaN\n",
       "3    NaN          NaN                                     NaN                                    NaN                                     NaN"
      ]
     },
     "execution_count": 9,
     "metadata": {},
     "output_type": "execute_result"
    }
   ],
   "source": [
    "algo_name_mapping = {\n",
    "    'ippo': 'IPPO \\cite{de2020independent}', \n",
    "    'exp_IPPO-RS': 'IPPO-RS',\n",
    "    'exp_IPPO-DC': 'IPPO-DC',\n",
    "    'scpo-no-cpo': 'SCPO w/o CPO',\n",
    "    'scpo-no-sch': 'SCPO w/o SCH',\n",
    "    'scpo': 'SCPO (Ours)', \n",
    "}\n",
    "metrics = {\n",
    "    'Success Rate': 'SuccessRate', \n",
    "    'Efficiency': 'efficiency',\n",
    "    'Safety': 'cra_out_rate',\n",
    "    # 'Individual Rewards': 'episode_reward_mean', \n",
    "    # 'Max-Step Rate': 'maxstep_rate',\n",
    "    # 'Social Coordination': 'mean_social_r',\n",
    "    # 'nei_r': 'nei_r',\n",
    "    # 'social_r': 'social_r',\n",
    "    # 'velocity_step_mean_episode_mean': 'velocity_step_mean_episode_mean',\n",
    "}\n",
    "formal_table = pd.DataFrame(columns=['env', 'algo']+list(metrics.keys()))\n",
    "\n",
    "LATEX = True\n",
    "# LATEX = False\n",
    "if LATEX:\n",
    "    latex_pre = '$\\scriptstyle \\pm'\n",
    "    latex_suf = '$'\n",
    "else:\n",
    "    latex_pre = '('\n",
    "    latex_suf = ')'\n",
    "\n",
    "\n",
    "for env_name, df in data.groupby('env'):\n",
    "    for algo_name, _df in df.groupby('algo'):\n",
    "        # table_results.loc[f'{algo_name}', 'env'] = env_name\n",
    "        row = {\n",
    "            'env': env_name,\n",
    "            'algo': algo_name_mapping[algo_name],\n",
    "            # 'Success Rate': _df[''].mean(),\n",
    "        }\n",
    "        if algo_name == 'scpo':\n",
    "            latext_bf_pre = '\\\\textbf{'\n",
    "            latext_bf_suf = '}'\n",
    "        else:\n",
    "            latext_bf_pre = ''\n",
    "            latext_bf_suf = ''\n",
    "        for met in metrics:\n",
    "            _col =_df[metrics[met]]\n",
    "            row.update({\n",
    "                f'{met}': f\"{latext_bf_pre}{_col.mean():.2f}{latext_bf_suf} {latex_pre} {_col.std():.2f}{latex_suf}\"\n",
    "            })\n",
    "         \n",
    "        formal_table.loc[len(formal_table)] = row\n",
    "    \n",
    "formal_table = formal_table.reindex([2, 1, 0, 4, 5, 3])\n",
    "formal_table"
   ]
  },
  {
   "cell_type": "code",
   "execution_count": 93,
   "metadata": {},
   "outputs": [
    {
     "name": "stdout",
     "output_type": "stream",
     "text": [
      "\\begin{tabular}{llll}\n",
      "\\toprule\n",
      "algo & Success Rate & Max-Step Rate & Social Coordination \\\\\n",
      "\\midrule\n",
      "IPPO \\cite{de2020independent} & 73.33 $\\scriptstyle \\pm 14.01$ & 2.60 $\\scriptstyle \\pm 6.89$ & 0.58 $\\scriptstyle \\pm 0.15$ \\\\\n",
      "IPPO-RS & 70.03 $\\scriptstyle \\pm 19.53$ & 11.33 $\\scriptstyle \\pm 13.68$ & 0.41 $\\scriptstyle \\pm 0.13$ \\\\\n",
      "IPPO-DC & 34.35 $\\scriptstyle \\pm 13.84$ & 48.00 $\\scriptstyle \\pm 14.39$ & 0.18 $\\scriptstyle \\pm 0.05$ \\\\\n",
      "SCPO w/o CPO & 40.71 $\\scriptstyle \\pm 14.70$ & 24.87 $\\scriptstyle \\pm 20.61$ & 0.30 $\\scriptstyle \\pm 0.10$ \\\\\n",
      "SCPO w/o SCH & 82.53 $\\scriptstyle \\pm 5.95$ & 0.01 $\\scriptstyle \\pm 0.93$ & 0.70 $\\scriptstyle \\pm 0.08$ \\\\\n",
      "SCPO (Ours) & \\textbf{82.28} $\\scriptstyle \\pm 7.51$ & \\textbf{1.16} $\\scriptstyle \\pm 4.17$ & \\textbf{0.67} $\\scriptstyle \\pm 0.12$ \\\\\n",
      "\\bottomrule\n",
      "\\end{tabular}\n",
      "\n"
     ]
    }
   ],
   "source": [
    "print(formal_table.iloc[:, 1:].to_latex(index=False, escape=False))"
   ]
  },
  {
   "cell_type": "code",
   "execution_count": null,
   "metadata": {},
   "outputs": [],
   "source": []
  },
  {
   "cell_type": "code",
   "execution_count": 6,
   "metadata": {},
   "outputs": [],
   "source": [
    "root_copo_new = 'eval_results/main'\n",
    "copo_df = preprocess_data(root_copo_new)"
   ]
  },
  {
   "cell_type": "code",
   "execution_count": 11,
   "metadata": {},
   "outputs": [
    {
     "data": {
      "text/plain": [
       "Index(['Unnamed: 0', 'velocity_step_mean_episode_min', 'velocity_step_mean_episode_mean', 'velocity_step_mean_episode_max', 'energy_step_mean_episode_min', 'energy_step_mean_episode_mean',\n",
       "       'energy_step_mean_episode_max', 'num_neighbours_mean_episode_mean', 'num_neighbours_mean_episode_max', 'num_agents_total', 'num_agents_total_per_300_steps', 'success_rate',\n",
       "       'num_agents_success', 'num_agents_success_per_300_steps', 'num_agents_failed_per_300_steps', 'episode_reward_mean', 'episode_reward_min', 'episode_reward_max', 'episode_cost_mean',\n",
       "       'episode_cost_min', 'episode_cost_max', 'episode_cost_sum', 'crash_rate', 'num_agents_crash', 'out_rate', 'num_agents_out', 'episode_length_mean', 'success_episode_length_mean',\n",
       "       'svo_estimate_deg_mean', 'svo_estimate_deg_min', 'svo_estimate_deg_max', 'svo_reward', 'path', 'ckpt_idx', 'algo', 'env', 'seed', 'trial', 'trial_path', 'should_wrap_copo_env',\n",
       "       'should_wrap_cc_env', 'episode', 'SuccessRate', 'cra_out_rate', 'efficiency', 'maxstep_rate', 'nei_r', 'social_r', 'r_per_step', 'sr_per_step', 'mean_social_r'],\n",
       "      dtype='object')"
      ]
     },
     "execution_count": 11,
     "metadata": {},
     "output_type": "execute_result"
    }
   ],
   "source": [
    "copo_df.columns"
   ]
  },
  {
   "cell_type": "code",
   "execution_count": 13,
   "metadata": {},
   "outputs": [
    {
     "name": "stdout",
     "output_type": "stream",
     "text": [
      "success_rate 0.7936694400748772\n",
      "crash_rate 0.11250514184063172\n",
      "out_rate 0.05182921837011751\n",
      "episode_reward_mean 239.6286789789812\n",
      "nei_r 233.38084123802255\n",
      "social_r 473.0095202170038\n",
      "r_per_step 0.4401449111165484\n",
      "sr_per_step 0.8677886457822335\n",
      "svo_reward 334.5329440057342\n"
     ]
    }
   ],
   "source": [
    "metric_names = ['success_rate', 'crash_rate', 'out_rate', 'episode_reward_mean', 'nei_r', 'social_r', 'r_per_step', 'sr_per_step', 'svo_reward']\n",
    "for m in metric_names:\n",
    "    print(m, copo_df[m].mean())"
   ]
  },
  {
   "cell_type": "code",
   "execution_count": 14,
   "metadata": {},
   "outputs": [
    {
     "data": {
      "text/plain": [
       "0    476.940252\n",
       "1    473.103133\n",
       "2    477.070990\n",
       "3    499.089226\n",
       "4    512.874528\n",
       "        ...    \n",
       "5    435.973702\n",
       "6    443.401335\n",
       "7    439.554141\n",
       "8    445.021997\n",
       "9    462.707414\n",
       "Name: social_r, Length: 240, dtype: float64"
      ]
     },
     "execution_count": 14,
     "metadata": {},
     "output_type": "execute_result"
    }
   ],
   "source": [
    "copo_df['social_r']"
   ]
  },
  {
   "cell_type": "markdown",
   "metadata": {},
   "source": [
    "## NEW EVAL:"
   ]
  },
  {
   "cell_type": "code",
   "execution_count": 15,
   "metadata": {},
   "outputs": [],
   "source": [
    "root_new= 'eval_results/main'\n",
    "new_df = preprocess_data(root_new)"
   ]
  },
  {
   "cell_type": "code",
   "execution_count": 17,
   "metadata": {},
   "outputs": [
    {
     "data": {
      "text/plain": [
       "Index(['Unnamed: 0', 'velocity_step_mean_episode_min', 'velocity_step_mean_episode_mean', 'velocity_step_mean_episode_max', 'energy_step_mean_episode_min', 'energy_step_mean_episode_mean',\n",
       "       'energy_step_mean_episode_max', 'num_neighbours_mean_episode_mean', 'num_neighbours_mean_episode_max', 'num_agents_total', 'num_agents_total_per_300_steps', 'success_rate',\n",
       "       'num_agents_success', 'num_agents_success_per_300_steps', 'num_agents_failed_per_300_steps', 'episode_reward_mean', 'episode_reward_min', 'episode_reward_max', 'episode_cost_mean',\n",
       "       'episode_cost_min', 'episode_cost_max', 'episode_cost_sum', 'crash_rate', 'num_agents_crash', 'out_rate', 'num_agents_out', 'episode_length_mean', 'success_episode_length_mean',\n",
       "       'svo_estimate_deg_mean', 'svo_estimate_deg_min', 'svo_estimate_deg_max', 'svo_reward', 'path', 'ckpt_idx', 'algo', 'env', 'seed', 'trial', 'trial_path', 'should_wrap_copo_env',\n",
       "       'should_wrap_cc_env', 'episode', 'SuccessRate', 'cra_out_rate', 'efficiency', 'maxstep_rate', 'nei_r', 'social_r', 'r_per_step', 'sr_per_step', 'mean_social_r'],\n",
       "      dtype='object')"
      ]
     },
     "execution_count": 17,
     "metadata": {},
     "output_type": "execute_result"
    }
   ],
   "source": [
    "new_df.columns"
   ]
  },
  {
   "cell_type": "code",
   "execution_count": 18,
   "metadata": {},
   "outputs": [
    {
     "data": {
      "text/plain": [
       "array(['copo', 'scpo'], dtype=object)"
      ]
     },
     "execution_count": 18,
     "metadata": {},
     "output_type": "execute_result"
    }
   ],
   "source": [
    "new_df.algo.unique()"
   ]
  },
  {
   "cell_type": "code",
   "execution_count": 20,
   "metadata": {},
   "outputs": [
    {
     "name": "stdout",
     "output_type": "stream",
     "text": [
      "\n",
      "[Round]:\n",
      "   algo  success_rate  num_agents_crash  crash_rate  num_agents_out  out_rate  episode_reward_mean    nei_r  social_r  r_per_step  sr_per_step  svo_reward  crash_&_out  cra_out_rate\n",
      "0  copo         0.787            10.542       0.112           4.725     0.052              238.829  231.690   470.519       0.432        0.849     332.787       15.267         0.164\n",
      "1  scpo         0.831            11.045       0.106           4.794     0.047              238.295  221.902   460.197       0.488        0.942     325.620       15.839         0.153\n"
     ]
    }
   ],
   "source": [
    "data = new_df.copy()\n",
    "# print desirable cols\n",
    "metric_names = ['success_rate', 'num_agents_crash', 'crash_rate', 'num_agents_out', 'out_rate', 'episode_reward_mean', 'nei_r', 'social_r', 'r_per_step', 'sr_per_step', 'svo_reward']\n",
    "\n",
    "table_results = pd.DataFrame(columns=['env', 'algo']+metric_names)\n",
    "\n",
    "for env_name, df in data.groupby('env'):\n",
    "    for algo_name, _df in df.groupby('algo'):\n",
    "        # table_results.loc[f'{algo_name}', 'env'] = env_name\n",
    "        _d = {}\n",
    "        for metric in metric_names:\n",
    "            # table_results.loc[f'{algo_name}', metric] = _df[metric].mean()\n",
    "           _d[metric] = round(_df[metric].mean(), 3) \n",
    "        _d.update({\n",
    "            'env': env_name,\n",
    "            'algo': algo_name,\n",
    "        })\n",
    "        table_results.loc[len(table_results)] = _d\n",
    "\n",
    "        # print(f'{algo_name:14}| {_df[metric].mean():.2f}({_df[metric].std():.2f})')\n",
    "\n",
    "\n",
    "table_results['crash_&_out'] = table_results['num_agents_crash'] + table_results['num_agents_out'] \n",
    "table_results['cra_out_rate'] = table_results['crash_rate'] + table_results['out_rate'] \n",
    "\n",
    "for env_name, df in table_results.groupby('env'):\n",
    "    print(f'\\n[{env_name}]:')\n",
    "    print(df.iloc[:, 1:])"
   ]
  },
  {
   "cell_type": "code",
   "execution_count": null,
   "metadata": {},
   "outputs": [],
   "source": []
  }
 ],
 "metadata": {
  "kernelspec": {
   "display_name": "Python 3",
   "language": "python",
   "name": "python3"
  },
  "language_info": {
   "codemirror_mode": {
    "name": "ipython",
    "version": 3
   },
   "file_extension": ".py",
   "mimetype": "text/x-python",
   "name": "python",
   "nbconvert_exporter": "python",
   "pygments_lexer": "ipython3",
   "version": "3.9.17"
  }
 },
 "nbformat": 4,
 "nbformat_minor": 2
}
